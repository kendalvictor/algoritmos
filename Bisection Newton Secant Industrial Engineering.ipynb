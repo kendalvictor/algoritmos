{
 "cells": [
  {
   "cell_type": "code",
   "execution_count": 1,
   "metadata": {},
   "outputs": [],
   "source": [
    "#nativos\n",
    "import random\n",
    "\n",
    "from sympy import *\n",
    "#import pandas as pd\n",
    "from IPython.display import Image, display, display_html\n",
    "from sympy.plotting import plot as plot_sympy\n",
    "from numpy import linspace\n",
    "import matplotlib.pyplot as mpl\n",
    "import numpy as np\n",
    "from scipy import optimize"
   ]
  },
  {
   "cell_type": "code",
   "execution_count": 2,
   "metadata": {},
   "outputs": [],
   "source": [
    "init_printing() "
   ]
  },
  {
   "cell_type": "code",
   "execution_count": 3,
   "metadata": {},
   "outputs": [],
   "source": [
    "x = Symbol('x')"
   ]
  },
  {
   "cell_type": "code",
   "execution_count": 71,
   "metadata": {},
   "outputs": [],
   "source": [
    "class OptimizationMethods:\n",
    "    def __init__(self, funcion_sympy, *args, **kwargs):\n",
    "        self.buscar_extremo_inferior_desde = kwargs.get('buscar_extremo_inferior_desde', -100)\n",
    "        self.buscar_extremo_superior_desde = kwargs.get('buscar_extremo_superior_desde', 100)\n",
    "        self.fsympy = funcion_sympy\n",
    "        \n",
    "        # transformo funcion sympy a funcion numpy\n",
    "        self.fx_sympy = funcion_sympy\n",
    "        self.fx = lambdify(x, funcion_sympy, 'numpy')\n",
    "        \n",
    "        # mensaje de error\n",
    "        self.mjse_error_intervalo = \"ERROR: valores de intervalo [{}, {}] no cumple con Teorema de Bolzano, pruebe ampliandolo\"\n",
    "        #random.randint(-100, 100)\n",
    "    \n",
    "    \n",
    "    def get_solution(self, metodo, **kwargs):\n",
    "        config = list(kwargs.keys())\n",
    "        \n",
    "        # Seleccion de los puntos iniciaales\n",
    "        if metodo == 'bisection':\n",
    "            self.buscar_extremo_inferior_desde = kwargs.get('buscar_extremo_inferior_desde', -100)\n",
    "            self.buscar_extremo_superior_desde = kwargs.get('buscar_extremo_superior_desde', 100)\n",
    "        else:\n",
    "            self.punto_inicial = kwargs.get('punto_inicial', None)\n",
    "            self.buscar_extremo_inferior_desde = kwargs.get('buscar_punto_inicial_desde', -1000)\n",
    "            self.buscar_extremo_superior_desde = kwargs.get('buscar_punto_inicial_hasta', 1000)\n",
    "        \n",
    "        # Parametros del grafico\n",
    "        self.ampliacion_grafico = kwargs.get('ampliacion', 50)\n",
    "        self.step = kwargs.get('step', 2)\n",
    "        \n",
    "        # retiro parametros no propios del metodo de bisection/newton heredado\n",
    "        for parameter in ['buscar_extremo_inferior_desde', 'buscar_extremo_superior_desde', 'ampliacion', 'step',\n",
    "                          'punto_inicial', 'buscar_punto_inicial_desde', 'buscar_punto_inicial_hasta']:\n",
    "            if parameter in config:\n",
    "                del kwargs[parameter]\n",
    "        \n",
    "        # seteo configuracion en caso no se haiga compartido\n",
    "        if 'full_output' not in config:\n",
    "            kwargs['full_output'] = True\n",
    "            \n",
    "        # seteo configuracion en caso no se haiga compartido\n",
    "        if 'disp' not in config:\n",
    "            kwargs['disp'] = False\n",
    "        \n",
    "        print(\"Confgiguracion detectada: \", str(kwargs))\n",
    "        \n",
    "        if metodo == 'bisection':\n",
    "            a, b = self.get_puntos_iniciales()\n",
    "            print(\"Intervalo inicial seleccionado: [{}, {}]\".format(a,b))\n",
    "            sol = optimize.bisect(self.fx, a, b, **kwargs)\n",
    "            \n",
    "        elif metodo == 'newton':\n",
    "            derivate = lambdify(x, self.fx_sympy.diff(x, 1), 'numpy')\n",
    "            \n",
    "            if self.punto_inicial and isinstance(self.punto_inicial, (int, float)):\n",
    "                print(\"Punto inicial: \", self.punto_inicial)\n",
    "        \n",
    "                sol = optimize.newton(self.fx, self.punto_inicial, derivate, **kwargs)\n",
    "                \n",
    "            else:\n",
    "                pto_inicial, _ = self.get_puntos_iniciales()\n",
    "                print(\"Al no colocar punto inicial se toma {} del intervalo: [{}, {}]\".format(\n",
    "                      pto_inicial, \n",
    "                      self.buscar_extremo_inferior_desde, \n",
    "                      self.buscar_extremo_superior_desde)\n",
    "                )\n",
    "                sol = optimize.newton(self.fx, pto_inicial, derivate, **kwargs)\n",
    "        else:\n",
    "            sol = None\n",
    "            \n",
    "        self.obtener_grafico(sol[0], ampliacion=self.ampliacion_grafico, step=self.step)\n",
    "        return sol\n",
    "\n",
    "    def biseccion(self, **kwargs):\n",
    "        return self.get_solution('bisection', **kwargs)\n",
    "    \n",
    "    def newton(self, **kwargs):\n",
    "        return self.get_solution('newton', **kwargs)\n",
    "    \n",
    "    def secante(self, **kwargs):\n",
    "        return self.get_solution('secante', **kwargs)\n",
    "    \n",
    "    def obtener_grafico(self, x_solucion, ampliacion=50, step=2):\n",
    "        x_vals_1 = np.arange(x_solucion - ampliacion, x_solucion + ampliacion, step)\n",
    "        y_vals_1 = self.fx(x_vals_1)\n",
    "\n",
    "        mpl.plot(x_vals_1, y_vals_1, 'bd', x_solucion,  self.fsympy.subs(x, x_solucion), 'ro')\n",
    "        mpl.show()\n",
    "    \n",
    "    def get_puntos_iniciales(self):\n",
    "        contador = 1\n",
    "        while True:\n",
    "            if contador > 300:\n",
    "                raise Exception(self.mjse_error_intervalo.format(self.extremo_inferior, self.extremo_superior))\n",
    "            contador += 1\n",
    "            \n",
    "            a = random.randint(self.buscar_extremo_inferior_desde, self.buscar_extremo_superior_desde)\n",
    "            b = random.randint(self.buscar_extremo_inferior_desde, self.buscar_extremo_superior_desde)\n",
    "            \n",
    "            #print(self.fsympy.subs(x, a), self.fsympy.subs(x, b))\n",
    "            try:\n",
    "                if self.fsympy.subs(x, a)*self.fsympy.subs(x, b) < 0 and a < b:\n",
    "                    return a, b\n",
    "            except:\n",
    "                continue"
   ]
  },
  {
   "cell_type": "markdown",
   "metadata": {},
   "source": [
    "# Método de bisección para resolver una ecuación no lineal en el campo de la Ingeniería Industrial"
   ]
  },
  {
   "cell_type": "markdown",
   "metadata": {},
   "source": [
    "Trabajas para una nueva empresa de ensamblaje de computadoras y se le ha pedido que determine la cantidad mínima de computadoras que la tienda tendrá que vender para obtener ganancias.\n",
    "La ecuación que da el número mínimo de computadoras \"x\" que se venderán después de considerar los costos totales y las ventas totales es:"
   ]
  },
  {
   "cell_type": "code",
   "execution_count": 72,
   "metadata": {},
   "outputs": [
    {
     "data": {
      "image/png": "[encoded data removed]",
      "text/latex": [
       "$\\displaystyle - 875 x + 40 x^{1.5} + 35000$"
      ],
      "text/plain": [
       "             1.5        \n",
       "-875⋅x + 40⋅x    + 35000"
      ]
     },
     "execution_count": 72,
     "metadata": {},
     "output_type": "execute_result"
    }
   ],
   "source": [
    "fx = 40*x**(3/2) - 875*x + 35000\n",
    "fx"
   ]
  },
  {
   "cell_type": "markdown",
   "metadata": {},
   "source": [
    "Utilice el método de bisección para encontrar raíces de ecuaciones para encontrar la cantidad mínima de computadoras que deben venderse para obtener ganancias. Realice tres iteraciones para estimar la raíz de la ecuación anterior. Encuentre el error absoluto relativo aproximado al final de cada iteración y el número de dígitos significativos al menos correcto al final de cada iteración."
   ]
  },
  {
   "cell_type": "code",
   "execution_count": 73,
   "metadata": {},
   "outputs": [],
   "source": [
    "resolver = OptimizationMethods(fx)"
   ]
  },
  {
   "cell_type": "markdown",
   "metadata": {},
   "source": [
    "# BISECTION"
   ]
  },
  {
   "cell_type": "markdown",
   "metadata": {},
   "source": [
    "### >>> Solucion pegada al pdf"
   ]
  },
  {
   "cell_type": "code",
   "execution_count": 74,
   "metadata": {},
   "outputs": [
    {
     "name": "stdout",
     "output_type": "stream",
     "text": [
      "Confgiguracion detectada:  {'maxiter': 100, 'disp': False, 'full_output': True}\n",
      "Intervalo inicial seleccionado: [29, 74]\n"
     ]
    },
    {
     "data": {
      "image/png": "[encoded data removed]",
      "text/plain": [
       "<Figure size 432x288 with 1 Axes>"
      ]
     },
     "metadata": {
      "needs_background": "light"
     },
     "output_type": "display_data"
    },
    {
     "data": {
      "text/plain": [
       "(62.691697151221405,\n",
       "       converged: True\n",
       "            flag: 'converged'\n",
       "  function_calls: 47\n",
       "      iterations: 45\n",
       "            root: 62.691697151221405)"
      ]
     },
     "execution_count": 74,
     "metadata": {},
     "output_type": "execute_result"
    }
   ],
   "source": [
    "resolver.biseccion(maxiter=100, disp=False)"
   ]
  },
  {
   "cell_type": "markdown",
   "metadata": {},
   "source": [
    "### >>> Busqueda de mas puntos críticos posibles"
   ]
  },
  {
   "cell_type": "code",
   "execution_count": 75,
   "metadata": {},
   "outputs": [
    {
     "name": "stdout",
     "output_type": "stream",
     "text": [
      "Confgiguracion detectada:  {'maxiter': 100, 'disp': False, 'full_output': True}\n",
      "Intervalo inicial seleccionado: [29, 82]\n"
     ]
    },
    {
     "name": "stderr",
     "output_type": "stream",
     "text": [
      "<lambdifygenerated-18>:2: RuntimeWarning: invalid value encountered in power\n",
      "  return (-875*x + 40*x**1.5 + 35000)\n"
     ]
    },
    {
     "data": {
      "image/png": "[encoded data removed]",
      "text/plain": [
       "<Figure size 432x288 with 1 Axes>"
      ]
     },
     "metadata": {
      "needs_background": "light"
     },
     "output_type": "display_data"
    },
    {
     "data": {
      "text/plain": [
       "(62.691697151221916,\n",
       "       converged: True\n",
       "            flag: 'converged'\n",
       "  function_calls: 47\n",
       "      iterations: 45\n",
       "            root: 62.691697151221916)"
      ]
     },
     "execution_count": 75,
     "metadata": {},
     "output_type": "execute_result"
    }
   ],
   "source": [
    "resolver.biseccion(maxiter=100, disp=False, ampliacion=500, step=10)"
   ]
  },
  {
   "cell_type": "markdown",
   "metadata": {},
   "source": [
    "### >>> Cambio de rango de busqueda de puntos iniciales"
   ]
  },
  {
   "cell_type": "code",
   "execution_count": 76,
   "metadata": {},
   "outputs": [
    {
     "name": "stdout",
     "output_type": "stream",
     "text": [
      "Confgiguracion detectada:  {'maxiter': 100, 'disp': False, 'full_output': True}\n",
      "Intervalo inicial seleccionado: [379, 468]\n"
     ]
    },
    {
     "name": "stderr",
     "output_type": "stream",
     "text": [
      "<lambdifygenerated-18>:2: RuntimeWarning: invalid value encountered in power\n",
      "  return (-875*x + 40*x**1.5 + 35000)\n"
     ]
    },
    {
     "data": {
      "image/png": "[encoded data removed]",
      "text/plain": [
       "<Figure size 432x288 with 1 Axes>"
      ]
     },
     "metadata": {
      "needs_background": "light"
     },
     "output_type": "display_data"
    },
    {
     "data": {
      "text/plain": [
       "(384.0222773527168,\n",
       "       converged: True\n",
       "            flag: 'converged'\n",
       "  function_calls: 48\n",
       "      iterations: 46\n",
       "            root: 384.0222773527168)"
      ]
     },
     "execution_count": 76,
     "metadata": {},
     "output_type": "execute_result"
    }
   ],
   "source": [
    "resolver.biseccion(maxiter=100, disp=False, ampliacion=500, step=20, \n",
    "                   buscar_extremo_inferior_desde=200, buscar_extremo_superior_desde=500)"
   ]
  },
  {
   "cell_type": "markdown",
   "metadata": {},
   "source": [
    "### >>> ¿Que pasa si busco en un rango donde estan los dos puntos criticos?"
   ]
  },
  {
   "cell_type": "code",
   "execution_count": 77,
   "metadata": {},
   "outputs": [
    {
     "name": "stdout",
     "output_type": "stream",
     "text": [
      "Confgiguracion detectada:  {'maxiter': 100, 'disp': False, 'full_output': True}\n",
      "Intervalo inicial seleccionado: [142, 449]\n"
     ]
    },
    {
     "name": "stderr",
     "output_type": "stream",
     "text": [
      "<lambdifygenerated-18>:2: RuntimeWarning: invalid value encountered in power\n",
      "  return (-875*x + 40*x**1.5 + 35000)\n"
     ]
    },
    {
     "data": {
      "image/png": "[encoded data removed]",
      "text/plain": [
       "<Figure size 432x288 with 1 Axes>"
      ]
     },
     "metadata": {
      "needs_background": "light"
     },
     "output_type": "display_data"
    },
    {
     "data": {
      "text/plain": [
       "(384.02227735271606,\n",
       "       converged: True\n",
       "            flag: 'converged'\n",
       "  function_calls: 49\n",
       "      iterations: 47\n",
       "            root: 384.02227735271606)"
      ]
     },
     "execution_count": 77,
     "metadata": {},
     "output_type": "execute_result"
    }
   ],
   "source": [
    "resolver.biseccion(maxiter=100, disp=False, ampliacion=500, step=20, \n",
    "                   buscar_extremo_inferior_desde=0, buscar_extremo_superior_desde=500)"
   ]
  },
  {
   "cell_type": "code",
   "execution_count": 78,
   "metadata": {},
   "outputs": [
    {
     "name": "stdout",
     "output_type": "stream",
     "text": [
      "Confgiguracion detectada:  {'maxiter': 100, 'disp': False, 'full_output': True}\n",
      "Intervalo inicial seleccionado: [125, 432]\n"
     ]
    },
    {
     "name": "stderr",
     "output_type": "stream",
     "text": [
      "<lambdifygenerated-18>:2: RuntimeWarning: invalid value encountered in power\n",
      "  return (-875*x + 40*x**1.5 + 35000)\n"
     ]
    },
    {
     "data": {
      "image/png": "[encoded data removed]",
      "text/plain": [
       "<Figure size 432x288 with 1 Axes>"
      ]
     },
     "metadata": {
      "needs_background": "light"
     },
     "output_type": "display_data"
    },
    {
     "data": {
      "text/plain": [
       "(384.02227735271464,\n",
       "       converged: True\n",
       "            flag: 'converged'\n",
       "  function_calls: 49\n",
       "      iterations: 47\n",
       "            root: 384.02227735271464)"
      ]
     },
     "execution_count": 78,
     "metadata": {},
     "output_type": "execute_result"
    }
   ],
   "source": [
    "resolver.biseccion(maxiter=100, disp=False, ampliacion=500, step=20, \n",
    "                   buscar_extremo_inferior_desde=0, buscar_extremo_superior_desde=500)"
   ]
  },
  {
   "cell_type": "code",
   "execution_count": null,
   "metadata": {},
   "outputs": [],
   "source": []
  },
  {
   "cell_type": "markdown",
   "metadata": {},
   "source": [
    "# NEWTON"
   ]
  },
  {
   "cell_type": "markdown",
   "metadata": {},
   "source": [
    "### >>> Siguiendo indicaciones del pdf"
   ]
  },
  {
   "cell_type": "code",
   "execution_count": 79,
   "metadata": {},
   "outputs": [
    {
     "name": "stdout",
     "output_type": "stream",
     "text": [
      "Confgiguracion detectada:  {'maxiter': 100, 'full_output': True, 'disp': False}\n",
      "Punto inicial:  50\n"
     ]
    },
    {
     "data": {
      "image/png": "[encoded data removed]",
      "text/plain": [
       "<Figure size 432x288 with 1 Axes>"
      ]
     },
     "metadata": {
      "needs_background": "light"
     },
     "output_type": "display_data"
    },
    {
     "data": {
      "text/plain": [
       "(62.69169715122135,\n",
       "       converged: True\n",
       "            flag: 'converged'\n",
       "  function_calls: 9\n",
       "      iterations: 4\n",
       "            root: 62.69169715122135)"
      ]
     },
     "execution_count": 79,
     "metadata": {},
     "output_type": "execute_result"
    }
   ],
   "source": [
    "resolver.newton(punto_inicial=50, maxiter=100)"
   ]
  },
  {
   "cell_type": "markdown",
   "metadata": {},
   "source": [
    "### >>> Buscando mi propio punto inicial"
   ]
  },
  {
   "cell_type": "code",
   "execution_count": 80,
   "metadata": {},
   "outputs": [
    {
     "name": "stdout",
     "output_type": "stream",
     "text": [
      "Confgiguracion detectada:  {'maxiter': 100, 'full_output': True, 'disp': False}\n",
      "Al no colocar punto inicial se toma 302 del intervalo: [-1000, 1000]\n"
     ]
    },
    {
     "data": {
      "image/png": "[encoded data removed]",
      "text/plain": [
       "<Figure size 432x288 with 1 Axes>"
      ]
     },
     "metadata": {
      "needs_background": "light"
     },
     "output_type": "display_data"
    },
    {
     "data": {
      "text/plain": [
       "(384.02227735271606,\n",
       "       converged: True\n",
       "            flag: 'converged'\n",
       "  function_calls: 11\n",
       "      iterations: 5\n",
       "            root: 384.02227735271606)"
      ]
     },
     "execution_count": 80,
     "metadata": {},
     "output_type": "execute_result"
    }
   ],
   "source": [
    "resolver.newton(maxiter=100)"
   ]
  },
  {
   "cell_type": "code",
   "execution_count": 84,
   "metadata": {},
   "outputs": [
    {
     "name": "stdout",
     "output_type": "stream",
     "text": [
      "Confgiguracion detectada:  {'maxiter': 100, 'full_output': True, 'disp': False}\n",
      "Al no colocar punto inicial se toma 119 del intervalo: [-1000, 1000]\n"
     ]
    },
    {
     "data": {
      "image/png": "[encoded data removed]",
      "text/plain": [
       "<Figure size 432x288 with 1 Axes>"
      ]
     },
     "metadata": {
      "needs_background": "light"
     },
     "output_type": "display_data"
    },
    {
     "data": {
      "text/plain": [
       "(62.69169715122135,\n",
       "       converged: True\n",
       "            flag: 'converged'\n",
       "  function_calls: 12\n",
       "      iterations: 6\n",
       "            root: 62.69169715122135)"
      ]
     },
     "execution_count": 84,
     "metadata": {},
     "output_type": "execute_result"
    }
   ],
   "source": [
    "resolver.newton(maxiter=100)"
   ]
  },
  {
   "cell_type": "code",
   "execution_count": null,
   "metadata": {},
   "outputs": [],
   "source": []
  },
  {
   "cell_type": "code",
   "execution_count": null,
   "metadata": {},
   "outputs": [],
   "source": []
  }
 ],
 "metadata": {
  "kernelspec": {
   "display_name": "Python 3",
   "language": "python",
   "name": "python3"
  },
  "language_info": {
   "codemirror_mode": {
    "name": "ipython",
    "version": 3
   },
   "file_extension": ".py",
   "mimetype": "text/x-python",
   "name": "python",
   "nbconvert_exporter": "python",
   "pygments_lexer": "ipython3",
   "version": "3.8.3"
  }
 },
 "nbformat": 4,
 "nbformat_minor": 4
}
