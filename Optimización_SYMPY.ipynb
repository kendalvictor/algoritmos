{
 "cells": [
  {
   "cell_type": "code",
   "execution_count": 1,
   "metadata": {},
   "outputs": [],
   "source": [
    "from sympy import *\n",
    "#import pandas as pd\n",
    "from IPython.display import Image, display, display_html\n",
    "from sympy.plotting import plot as plot_sympy\n",
    "\n",
    "from numpy import linspace\n",
    "import matplotlib.pyplot as mpl\n",
    "import numpy as np"
   ]
  },
  {
   "cell_type": "code",
   "execution_count": 2,
   "metadata": {},
   "outputs": [],
   "source": [
    "init_printing() "
   ]
  },
  {
   "cell_type": "code",
   "execution_count": 3,
   "metadata": {},
   "outputs": [],
   "source": [
    "x = Symbol('x')"
   ]
  },
  {
   "cell_type": "code",
   "execution_count": 77,
   "metadata": {},
   "outputs": [],
   "source": [
    "def get_print_derivate(ecuacion, orden=1, search='minimo', separador=1, step=0.1):\n",
    "    \"\"\"\n",
    "    search: minimo, maximo o indefinido\n",
    "    \"\"\"\n",
    "    dicc_result = {}\n",
    "    if search not in ('minimo', 'maximo', 'indefinido'):\n",
    "        print(\"Tipo de pto crítico inválido\")\n",
    "    \n",
    "    derivada = ecuacion.diff(x, orden)\n",
    "    \n",
    "    print(\"1- Obtenemos la derivada: \")\n",
    "    display(nsimplify(derivada, tolerance=0.001, rational=True))\n",
    "    \n",
    "    try:\n",
    "        fact = factor(derivada)\n",
    "        display(\"-----derivada factorizada:    \", fact)\n",
    "        fact = factor(derivada)\n",
    "        display(\"-----factorizado con formato:    \", nsimplify(fact, tolerance=0.001, rational=True))\n",
    "    except:\n",
    "        print(\"Error en factorización\")\n",
    "\n",
    "    print(\"-\"*100)\n",
    "    solutions = solve(derivada)\n",
    "    display(\"2- Hallamos los Puntos críticos:      \", ' '.join([str(_) for _ in solutions]))\n",
    "\n",
    "    if solutions:\n",
    "        print(\"-\"*100)\n",
    "        print(\"3- Calculamos la 2da derivada: \")\n",
    "        derivada_2 = ecuacion.diff(x, orden + 1)\n",
    "        fact_2 = nsimplify(derivada_2, tolerance=0.001, rational=True)\n",
    "        display(nsimplify(fact_2, tolerance=0.001, rational=True))\n",
    "    print(\"-\"*100)\n",
    "    \n",
    "    print(\"4- Identificamos los máximos y mínimos relativos: \")\n",
    "    \n",
    "    \n",
    "    for ptocritic in solutions:\n",
    "        try:\n",
    "            r = fact_2.subs(x, ptocritic)\n",
    "            y = ecuacion.subs(x, ptocritic)\n",
    "            \n",
    "            dicc_result[ptocritic] = {\n",
    "                'y': y,\n",
    "                'category': 'maximo' if r < 0 else('minimo' if r > 0 else 'indefinido'),\n",
    "                'punto': (ptocritic, y)\n",
    "            }\n",
    "            \n",
    "            print(\n",
    "                (ptocritic, y),\n",
    "                (Rational(ptocritic), Rational(ecuacion.subs(x, ptocritic))),\n",
    "                ' : ', dicc_result[ptocritic]['category']\n",
    "            )\n",
    "        except Exception as e:\n",
    "            print(\"Error con punto crítico:  \", ptocritic, \" , detalle: \", str(e))\n",
    "            \n",
    "        \n",
    "    # Get solucion\n",
    "    rspta = list({k:v for k, v in dicc_result.items() if v['category'] == search}.keys())[0]\n",
    "    \n",
    "    print(\"\")\n",
    "    print(\"-\"*100)\n",
    "    print(\"Solucion: \", rspta)\n",
    "    # SHow\n",
    "    x_vals_1 = np.arange(rspta - separador, rspta + separador, step)\n",
    "    y_vals_1 = lambdify(x, ecuacion, 'numpy')(x_vals_1)\n",
    "\n",
    "    mpl.plot(x_vals_1, y_vals_1, 'bd', rspta,  ecuacion.subs(x, rspta), 'ro')\n",
    "    mpl.show()\n",
    "        \n",
    "    return rspta"
   ]
  },
  {
   "cell_type": "markdown",
   "metadata": {},
   "source": [
    "# 1 -----------------------------------------"
   ]
  },
  {
   "cell_type": "markdown",
   "metadata": {},
   "source": [
    "Una pequeña compañía debe alquilar ayuda temporal que es más cara para complementar su personal de tiempo completo. Se estima que los costos semanales de salarios y beneficios se relacionan con el número m de empleados de tiempo completo por la función:"
   ]
  },
  {
   "cell_type": "code",
   "execution_count": 78,
   "metadata": {},
   "outputs": [
    {
     "data": {
      "image/png": "[encoded data removed]",
      "text/latex": [
       "$\\displaystyle 250 x + 1000 + \\frac{16000}{x}$"
      ],
      "text/plain": [
       "               16000\n",
       "250⋅x + 1000 + ─────\n",
       "                 x  "
      ]
     },
     "execution_count": 78,
     "metadata": {},
     "output_type": "execute_result"
    }
   ],
   "source": [
    "func_1 = 250*x + (16000/x) + 1000\n",
    "cm = nsimplify(func_1, tolerance=0.001, rational=True)\n",
    "cm"
   ]
  },
  {
   "cell_type": "markdown",
   "metadata": {},
   "source": [
    "¿Cuántos empleados de tiempo completo deberían tener la compañía para minimizar esos\n",
    "costos? Respuesta: m = 8 empleados"
   ]
  },
  {
   "cell_type": "markdown",
   "metadata": {},
   "source": [
    "### Solución:"
   ]
  },
  {
   "cell_type": "code",
   "execution_count": 79,
   "metadata": {},
   "outputs": [
    {
     "name": "stdout",
     "output_type": "stream",
     "text": [
      "1- Obtenemos la derivada: \n"
     ]
    },
    {
     "data": {
      "image/png": "[encoded data removed]",
      "text/latex": [
       "$\\displaystyle 250 - \\frac{16000}{x^{2}}$"
      ],
      "text/plain": [
       "      16000\n",
       "250 - ─────\n",
       "         2 \n",
       "        x  "
      ]
     },
     "metadata": {},
     "output_type": "display_data"
    },
    {
     "data": {
      "text/plain": [
       "'-----derivada factorizada:    '"
      ]
     },
     "metadata": {},
     "output_type": "display_data"
    },
    {
     "data": {
      "image/png": "[encoded data removed]",
      "text/latex": [
       "$\\displaystyle \\frac{250 \\left(x - 8\\right) \\left(x + 8\\right)}{x^{2}}$"
      ],
      "text/plain": [
       "250⋅(x - 8)⋅(x + 8)\n",
       "───────────────────\n",
       "          2        \n",
       "         x         "
      ]
     },
     "metadata": {},
     "output_type": "display_data"
    },
    {
     "data": {
      "text/plain": [
       "'-----factorizado con formato:    '"
      ]
     },
     "metadata": {},
     "output_type": "display_data"
    },
    {
     "data": {
      "image/png": "[encoded data removed]",
      "text/latex": [
       "$\\displaystyle \\frac{250 \\left(x - 8\\right) \\left(x + 8\\right)}{x^{2}}$"
      ],
      "text/plain": [
       "250⋅(x - 8)⋅(x + 8)\n",
       "───────────────────\n",
       "          2        \n",
       "         x         "
      ]
     },
     "metadata": {},
     "output_type": "display_data"
    },
    {
     "name": "stdout",
     "output_type": "stream",
     "text": [
      "----------------------------------------------------------------------------------------------------\n"
     ]
    },
    {
     "data": {
      "text/plain": [
       "'2- Hallamos los Puntos críticos:      '"
      ]
     },
     "metadata": {},
     "output_type": "display_data"
    },
    {
     "data": {
      "text/plain": [
       "'-8 8'"
      ]
     },
     "metadata": {},
     "output_type": "display_data"
    },
    {
     "name": "stdout",
     "output_type": "stream",
     "text": [
      "----------------------------------------------------------------------------------------------------\n",
      "3- Calculamos la 2da derivada: \n"
     ]
    },
    {
     "data": {
      "image/png": "[encoded data removed]",
      "text/latex": [
       "$\\displaystyle \\frac{32000}{x^{3}}$"
      ],
      "text/plain": [
       "32000\n",
       "─────\n",
       "   3 \n",
       "  x  "
      ]
     },
     "metadata": {},
     "output_type": "display_data"
    },
    {
     "name": "stdout",
     "output_type": "stream",
     "text": [
      "----------------------------------------------------------------------------------------------------\n",
      "4- Identificamos los máximos y mínimos relativos: \n",
      "(-8, -3000) (-8, -3000)  :  maximo\n",
      "(8, 5000) (8, 5000)  :  minimo\n",
      "\n",
      "----------------------------------------------------------------------------------------------------\n",
      "Solucion:  8\n"
     ]
    },
    {
     "data": {
      "image/png": "[encoded data removed]",
      "text/plain": [
       "<Figure size 432x288 with 1 Axes>"
      ]
     },
     "metadata": {
      "needs_background": "light"
     },
     "output_type": "display_data"
    }
   ],
   "source": [
    "rspta_1 = get_print_derivate(cm)"
   ]
  },
  {
   "cell_type": "code",
   "execution_count": null,
   "metadata": {},
   "outputs": [],
   "source": []
  },
  {
   "cell_type": "code",
   "execution_count": null,
   "metadata": {},
   "outputs": [],
   "source": [
    "\n"
   ]
  },
  {
   "cell_type": "markdown",
   "metadata": {},
   "source": [
    "# 3 -----------------------------------------"
   ]
  },
  {
   "cell_type": "markdown",
   "metadata": {},
   "source": [
    "Suponga que la función de costo total por la fabricación de cierto producto es :"
   ]
  },
  {
   "cell_type": "code",
   "execution_count": 80,
   "metadata": {},
   "outputs": [
    {
     "data": {
      "image/png": "[encoded data removed]",
      "text/latex": [
       "$\\displaystyle 0.002 x^{2} + 24.2$"
      ],
      "text/plain": [
       "       2       \n",
       "0.002⋅x  + 24.2"
      ]
     },
     "execution_count": 80,
     "metadata": {},
     "output_type": "execute_result"
    }
   ],
   "source": [
    "cx = 0.2*(0.01*x**2 + 121)\n",
    "cx"
   ]
  },
  {
   "cell_type": "markdown",
   "metadata": {},
   "source": [
    "dólares, donde x representa las unidades producidas. Encuentre el nivel de producción que minimizará\n",
    "el costo promedio.\n",
    "Respuesta: x = 110 unidades "
   ]
  },
  {
   "cell_type": "markdown",
   "metadata": {},
   "source": [
    "### Solucion"
   ]
  },
  {
   "cell_type": "code",
   "execution_count": 81,
   "metadata": {},
   "outputs": [
    {
     "data": {
      "image/png": "[encoded data removed]",
      "text/latex": [
       "$\\displaystyle \\frac{0.002 x^{2} + 24.2}{x}$"
      ],
      "text/plain": [
       "       2       \n",
       "0.002⋅x  + 24.2\n",
       "───────────────\n",
       "       x       "
      ]
     },
     "execution_count": 81,
     "metadata": {},
     "output_type": "execute_result"
    }
   ],
   "source": [
    "costo_promedio = cx / x\n",
    "costo_promedio"
   ]
  },
  {
   "cell_type": "code",
   "execution_count": 83,
   "metadata": {},
   "outputs": [
    {
     "name": "stdout",
     "output_type": "stream",
     "text": [
      "1- Obtenemos la derivada: \n"
     ]
    },
    {
     "data": {
      "image/png": "[encoded data removed]",
      "text/latex": [
       "$\\displaystyle \\frac{1}{250} - \\frac{\\frac{x^{2}}{500} + \\frac{121}{5}}{x^{2}}$"
      ],
      "text/plain": [
       "        2      \n",
       "       x    121\n",
       "      ─── + ───\n",
       " 1    500    5 \n",
       "─── - ─────────\n",
       "250        2   \n",
       "          x    "
      ]
     },
     "metadata": {},
     "output_type": "display_data"
    },
    {
     "data": {
      "text/plain": [
       "'-----derivada factorizada:    '"
      ]
     },
     "metadata": {},
     "output_type": "display_data"
    },
    {
     "data": {
      "image/png": "[encoded data removed]",
      "text/latex": [
       "$\\displaystyle \\frac{24.2 \\left(8.26446280991735 \\cdot 10^{-5} x^{2} - 1.0\\right)}{x^{2}}$"
      ],
      "text/plain": [
       "     ⎛                     2      ⎞\n",
       "24.2⋅⎝8.26446280991735e-5⋅x  - 1.0⎠\n",
       "───────────────────────────────────\n",
       "                  2                \n",
       "                 x                 "
      ]
     },
     "metadata": {},
     "output_type": "display_data"
    },
    {
     "data": {
      "text/plain": [
       "'-----factorizado con formato:    '"
      ]
     },
     "metadata": {},
     "output_type": "display_data"
    },
    {
     "data": {
      "image/png": "[encoded data removed]",
      "text/latex": [
       "$\\displaystyle - \\frac{121}{5 x^{2}}$"
      ],
      "text/plain": [
       "-121 \n",
       "─────\n",
       "    2\n",
       " 5⋅x "
      ]
     },
     "metadata": {},
     "output_type": "display_data"
    },
    {
     "name": "stdout",
     "output_type": "stream",
     "text": [
      "----------------------------------------------------------------------------------------------------\n"
     ]
    },
    {
     "data": {
      "text/plain": [
       "'2- Hallamos los Puntos críticos:      '"
      ]
     },
     "metadata": {},
     "output_type": "display_data"
    },
    {
     "data": {
      "text/plain": [
       "'-110.000000000000 110.000000000000'"
      ]
     },
     "metadata": {},
     "output_type": "display_data"
    },
    {
     "name": "stdout",
     "output_type": "stream",
     "text": [
      "----------------------------------------------------------------------------------------------------\n",
      "3- Calculamos la 2da derivada: \n"
     ]
    },
    {
     "data": {
      "image/png": "[encoded data removed]",
      "text/latex": [
       "$\\displaystyle \\frac{- \\frac{1}{250} + \\frac{2 \\left(\\frac{x^{2}}{500} + \\frac{121}{5}\\right)}{x^{2}}}{x}$"
      ],
      "text/plain": [
       "          ⎛  2      ⎞\n",
       "          ⎜ x    121⎟\n",
       "        2⋅⎜─── + ───⎟\n",
       "   1      ⎝500    5 ⎠\n",
       "- ─── + ─────────────\n",
       "  250          2     \n",
       "              x      \n",
       "─────────────────────\n",
       "          x          "
      ]
     },
     "metadata": {},
     "output_type": "display_data"
    },
    {
     "name": "stdout",
     "output_type": "stream",
     "text": [
      "----------------------------------------------------------------------------------------------------\n",
      "4- Identificamos los máximos y mínimos relativos: \n",
      "(-110.000000000000, -0.440000000000000) (-110, -3963167672086037/9007199254740992)  :  maximo\n",
      "(110.000000000000, 0.440000000000000) (110, 3963167672086037/9007199254740992)  :  minimo\n",
      "\n",
      "----------------------------------------------------------------------------------------------------\n",
      "Solucion:  110.000000000000\n"
     ]
    },
    {
     "data": {
      "image/png": "[encoded data removed]",
      "text/plain": [
       "<Figure size 432x288 with 1 Axes>"
      ]
     },
     "metadata": {
      "needs_background": "light"
     },
     "output_type": "display_data"
    }
   ],
   "source": [
    "rspta_3 = get_print_derivate(costo_promedio, separador=10, step=1)"
   ]
  },
  {
   "cell_type": "markdown",
   "metadata": {},
   "source": [
    "# 4 -----------------------------------------"
   ]
  },
  {
   "cell_type": "markdown",
   "metadata": {},
   "source": [
    "El costo total mensual, en dólares, por la fabricación de x unidades de la cámara modelo MI en la\n",
    "corporación de instrumentos de precisión Cannon está dado por la función :"
   ]
  },
  {
   "cell_type": "code",
   "execution_count": 84,
   "metadata": {},
   "outputs": [
    {
     "data": {
      "image/png": "[encoded data removed]",
      "text/latex": [
       "$\\displaystyle 0.0025 x^{2} + 80 x + 10000$"
      ],
      "text/plain": [
       "        2               \n",
       "0.0025⋅x  + 80⋅x + 10000"
      ]
     },
     "execution_count": 84,
     "metadata": {},
     "output_type": "execute_result"
    }
   ],
   "source": [
    "cx = 0.0025*x**2 + 80*x + 10000\n",
    "cx"
   ]
  },
  {
   "cell_type": "markdown",
   "metadata": {},
   "source": [
    "a) Obtén la función de costo promedio"
   ]
  },
  {
   "cell_type": "code",
   "execution_count": 85,
   "metadata": {},
   "outputs": [
    {
     "data": {
      "image/png": "[encoded data removed]",
      "text/latex": [
       "$\\displaystyle \\frac{\\frac{x^{2}}{500} + \\frac{121}{5}}{x}$"
      ],
      "text/plain": [
       "  2      \n",
       " x    121\n",
       "─── + ───\n",
       "500    5 \n",
       "─────────\n",
       "    x    "
      ]
     },
     "execution_count": 85,
     "metadata": {},
     "output_type": "execute_result"
    }
   ],
   "source": [
    "costo_promedio_4 = cx/x\n",
    "nsimplify(costo_promedio, tolerance=0.001, rational=True)"
   ]
  },
  {
   "cell_type": "markdown",
   "metadata": {},
   "source": [
    "b) Proporciona el nivel de producción que arroje el menor costo promedio de producción"
   ]
  },
  {
   "cell_type": "code",
   "execution_count": 103,
   "metadata": {},
   "outputs": [
    {
     "name": "stdout",
     "output_type": "stream",
     "text": [
      "1- Obtenemos la derivada: \n"
     ]
    },
    {
     "data": {
      "image/png": "[encoded data removed]",
      "text/latex": [
       "$\\displaystyle \\frac{\\frac{x}{200} + 80}{x} - \\frac{\\frac{x^{2}}{400} + 80 x + 10000}{x^{2}}$"
      ],
      "text/plain": [
       "             2               \n",
       " x          x                \n",
       "─── + 80   ─── + 80⋅x + 10000\n",
       "200        400               \n",
       "──────── - ──────────────────\n",
       "   x                2        \n",
       "                   x         "
      ]
     },
     "metadata": {},
     "output_type": "display_data"
    },
    {
     "data": {
      "text/plain": [
       "'-----derivada factorizada:    '"
      ]
     },
     "metadata": {},
     "output_type": "display_data"
    },
    {
     "data": {
      "image/png": "[encoded data removed]",
      "text/latex": [
       "$\\displaystyle \\frac{10000.0 \\left(0.0005 x - 1.0\\right) \\left(0.0005 x + 1.0\\right)}{x^{2}}$"
      ],
      "text/plain": [
       "10000.0⋅(0.0005⋅x - 1.0)⋅(0.0005⋅x + 1.0)\n",
       "─────────────────────────────────────────\n",
       "                     2                   \n",
       "                    x                    "
      ]
     },
     "metadata": {},
     "output_type": "display_data"
    },
    {
     "data": {
      "text/plain": [
       "'-----factorizado con formato:    '"
      ]
     },
     "metadata": {},
     "output_type": "display_data"
    },
    {
     "data": {
      "image/png": "[encoded data removed]",
      "text/latex": [
       "$\\displaystyle \\frac{10000 \\left(\\frac{x}{1000} - 1\\right) \\left(\\frac{x}{1000} + 1\\right)}{x^{2}}$"
      ],
      "text/plain": [
       "      ⎛ x      ⎞ ⎛ x      ⎞\n",
       "10000⋅⎜──── - 1⎟⋅⎜──── + 1⎟\n",
       "      ⎝1000    ⎠ ⎝1000    ⎠\n",
       "───────────────────────────\n",
       "              2            \n",
       "             x             "
      ]
     },
     "metadata": {},
     "output_type": "display_data"
    },
    {
     "name": "stdout",
     "output_type": "stream",
     "text": [
      "----------------------------------------------------------------------------------------------------\n"
     ]
    },
    {
     "data": {
      "text/plain": [
       "'2- Hallamos los Puntos críticos:      '"
      ]
     },
     "metadata": {},
     "output_type": "display_data"
    },
    {
     "data": {
      "text/plain": [
       "'-2000.00000000000 2000.00000000000'"
      ]
     },
     "metadata": {},
     "output_type": "display_data"
    },
    {
     "name": "stdout",
     "output_type": "stream",
     "text": [
      "----------------------------------------------------------------------------------------------------\n",
      "3- Calculamos la 2da derivada: \n"
     ]
    },
    {
     "data": {
      "image/png": "[encoded data removed]",
      "text/latex": [
       "$\\displaystyle \\frac{\\frac{1}{200} - \\frac{2 \\left(\\frac{x}{200} + 80\\right)}{x} + \\frac{2 \\left(\\frac{x^{2}}{400} + 80 x + 10000\\right)}{x^{2}}}{x}$"
      ],
      "text/plain": [
       "                       ⎛  2               ⎞\n",
       "        ⎛ x      ⎞     ⎜ x                ⎟\n",
       "      2⋅⎜─── + 80⎟   2⋅⎜─── + 80⋅x + 10000⎟\n",
       " 1      ⎝200     ⎠     ⎝400               ⎠\n",
       "─── - ──────────── + ──────────────────────\n",
       "200        x                    2          \n",
       "                               x           \n",
       "───────────────────────────────────────────\n",
       "                     x                     "
      ]
     },
     "metadata": {},
     "output_type": "display_data"
    },
    {
     "name": "stdout",
     "output_type": "stream",
     "text": [
      "----------------------------------------------------------------------------------------------------\n",
      "4- Identificamos los máximos y mínimos relativos: \n",
      "(-2000.00000000000, 70.0000000000000) (-2000, 70)  :  maximo\n",
      "(2000.00000000000, 90.0000000000000) (2000, 90)  :  minimo\n",
      "\n",
      "----------------------------------------------------------------------------------------------------\n",
      "Solucion:  2000.00000000000\n"
     ]
    },
    {
     "data": {
      "image/png": "[encoded data removed]",
      "text/plain": [
       "<Figure size 432x288 with 1 Axes>"
      ]
     },
     "metadata": {
      "needs_background": "light"
     },
     "output_type": "display_data"
    }
   ],
   "source": [
    "rspta_4 = get_print_derivate(costo_promedio_4, separador=10, step=1)"
   ]
  },
  {
   "cell_type": "markdown",
   "metadata": {},
   "source": [
    "# 12 -----------------------------------------"
   ]
  },
  {
   "cell_type": "markdown",
   "metadata": {},
   "source": [
    "Suponga que la ecuación de demanda para el producto de un monopolista es:"
   ]
  },
  {
   "cell_type": "code",
   "execution_count": 87,
   "metadata": {},
   "outputs": [
    {
     "data": {
      "image/png": "[encoded data removed]",
      "text/latex": [
       "$\\displaystyle 400 - 2 x$"
      ],
      "text/plain": [
       "400 - 2⋅x"
      ]
     },
     "execution_count": 87,
     "metadata": {},
     "output_type": "execute_result"
    }
   ],
   "source": [
    "px = 400 -2*x\n",
    "px"
   ]
  },
  {
   "cell_type": "code",
   "execution_count": 88,
   "metadata": {},
   "outputs": [
    {
     "data": {
      "image/png": "[encoded data removed]",
      "text/latex": [
       "$\\displaystyle x \\left(0.2 x + 4 + \\frac{400}{x}\\right)$"
      ],
      "text/plain": [
       "  ⎛            400⎞\n",
       "x⋅⎜0.2⋅x + 4 + ───⎟\n",
       "  ⎝             x ⎠"
      ]
     },
     "execution_count": 88,
     "metadata": {},
     "output_type": "execute_result"
    }
   ],
   "source": [
    "cx = x*(0.2*x + 4 + 400/x)\n",
    "cx"
   ]
  },
  {
   "cell_type": "markdown",
   "metadata": {},
   "source": [
    " donde x es el número de unidades, p\n",
    "precio y\n",
    "C\n",
    "se expresan en dólares por unidad"
   ]
  },
  {
   "cell_type": "markdown",
   "metadata": {},
   "source": [
    "a) Determinar el nivel de producción en el que se maximiza la utilidad."
   ]
  },
  {
   "cell_type": "code",
   "execution_count": 89,
   "metadata": {},
   "outputs": [
    {
     "data": {
      "image/png": "[encoded data removed]",
      "text/latex": [
       "$\\displaystyle x \\left(400 - 2 x\\right)$"
      ],
      "text/plain": [
       "x⋅(400 - 2⋅x)"
      ]
     },
     "execution_count": 89,
     "metadata": {},
     "output_type": "execute_result"
    }
   ],
   "source": [
    "Ix = px*x\n",
    "Ix"
   ]
  },
  {
   "cell_type": "code",
   "execution_count": 90,
   "metadata": {},
   "outputs": [
    {
     "data": {
      "image/png": "[encoded data removed]",
      "text/latex": [
       "$\\displaystyle x \\left(400 - 2 x\\right) - x \\left(0.2 x + 4 + \\frac{400}{x}\\right)$"
      ],
      "text/plain": [
       "                  ⎛            400⎞\n",
       "x⋅(400 - 2⋅x) - x⋅⎜0.2⋅x + 4 + ───⎟\n",
       "                  ⎝             x ⎠"
      ]
     },
     "execution_count": 90,
     "metadata": {},
     "output_type": "execute_result"
    }
   ],
   "source": [
    "Ux = Ix - cx\n",
    "Ux"
   ]
  },
  {
   "cell_type": "code",
   "execution_count": 108,
   "metadata": {},
   "outputs": [
    {
     "name": "stdout",
     "output_type": "stream",
     "text": [
      "1- Obtenemos la derivada: \n"
     ]
    },
    {
     "data": {
      "image/png": "[encoded data removed]",
      "text/latex": [
       "$\\displaystyle - x \\left(\\frac{1}{5} - \\frac{400}{x^{2}}\\right) - \\frac{21 x}{5} + 396 - \\frac{400}{x}$"
      ],
      "text/plain": [
       "    ⎛1   400⎞   21⋅x         400\n",
       "- x⋅⎜─ - ───⎟ - ──── + 396 - ───\n",
       "    ⎜5     2⎟    5            x \n",
       "    ⎝     x ⎠                   "
      ]
     },
     "metadata": {},
     "output_type": "display_data"
    },
    {
     "data": {
      "text/plain": [
       "'-----derivada factorizada:    '"
      ]
     },
     "metadata": {},
     "output_type": "display_data"
    },
    {
     "data": {
      "image/png": "[encoded data removed]",
      "text/latex": [
       "$\\displaystyle - 396.0 \\left(0.0111111111111111 x - 1.0\\right)$"
      ],
      "text/plain": [
       "-396.0⋅(0.0111111111111111⋅x - 1.0)"
      ]
     },
     "metadata": {},
     "output_type": "display_data"
    },
    {
     "data": {
      "text/plain": [
       "'-----factorizado con formato:    '"
      ]
     },
     "metadata": {},
     "output_type": "display_data"
    },
    {
     "data": {
      "image/png": "[encoded data removed]",
      "text/latex": [
       "$\\displaystyle 396 - \\frac{22 x}{5}$"
      ],
      "text/plain": [
       "      22⋅x\n",
       "396 - ────\n",
       "       5  "
      ]
     },
     "metadata": {},
     "output_type": "display_data"
    },
    {
     "name": "stdout",
     "output_type": "stream",
     "text": [
      "----------------------------------------------------------------------------------------------------\n"
     ]
    },
    {
     "data": {
      "text/plain": [
       "'2- Hallamos los Puntos críticos:      '"
      ]
     },
     "metadata": {},
     "output_type": "display_data"
    },
    {
     "data": {
      "text/plain": [
       "'90.0000000000000'"
      ]
     },
     "metadata": {},
     "output_type": "display_data"
    },
    {
     "name": "stdout",
     "output_type": "stream",
     "text": [
      "----------------------------------------------------------------------------------------------------\n",
      "3- Calculamos la 2da derivada: \n"
     ]
    },
    {
     "data": {
      "image/png": "[encoded data removed]",
      "text/latex": [
       "$\\displaystyle - \\frac{22}{5}$"
      ],
      "text/plain": [
       "-22/5"
      ]
     },
     "metadata": {},
     "output_type": "display_data"
    },
    {
     "name": "stdout",
     "output_type": "stream",
     "text": [
      "----------------------------------------------------------------------------------------------------\n",
      "4- Identificamos los máximos y mínimos relativos: \n",
      "(90.0000000000000, 17420.0000000000) (90, 17420)  :  maximo\n",
      "\n",
      "----------------------------------------------------------------------------------------------------\n",
      "Solucion:  90.0000000000000\n"
     ]
    },
    {
     "data": {
      "image/png": "[encoded data removed]",
      "text/plain": [
       "<Figure size 432x288 with 1 Axes>"
      ]
     },
     "metadata": {
      "needs_background": "light"
     },
     "output_type": "display_data"
    }
   ],
   "source": [
    "rspta_12 = get_print_derivate(Ux, search='maximo', separador=10, step=1)"
   ]
  },
  {
   "cell_type": "code",
   "execution_count": 92,
   "metadata": {},
   "outputs": [
    {
     "data": {
      "image/png": "[encoded data removed]",
      "text/latex": [
       "$\\displaystyle 90.0$"
      ],
      "text/plain": [
       "90.0000000000000"
      ]
     },
     "execution_count": 92,
     "metadata": {},
     "output_type": "execute_result"
    }
   ],
   "source": [
    "rspta_12"
   ]
  },
  {
   "cell_type": "markdown",
   "metadata": {},
   "source": [
    "b) Determinar el precio en que ocurre la utilidad máxima"
   ]
  },
  {
   "cell_type": "code",
   "execution_count": 93,
   "metadata": {},
   "outputs": [
    {
     "data": {
      "image/png": "[encoded data removed]",
      "text/latex": [
       "$\\displaystyle 220.0$"
      ],
      "text/plain": [
       "220.000000000000"
      ]
     },
     "execution_count": 93,
     "metadata": {},
     "output_type": "execute_result"
    }
   ],
   "source": [
    "px.subs(x, rspta_12)"
   ]
  },
  {
   "cell_type": "markdown",
   "metadata": {},
   "source": [
    "c) Determinar la utilidad máxima."
   ]
  },
  {
   "cell_type": "code",
   "execution_count": 94,
   "metadata": {},
   "outputs": [
    {
     "data": {
      "image/png": "[encoded data removed]",
      "text/latex": [
       "$\\displaystyle 17420.0$"
      ],
      "text/plain": [
       "17420.0000000000"
      ]
     },
     "execution_count": 94,
     "metadata": {},
     "output_type": "execute_result"
    }
   ],
   "source": [
    "Ux.subs(x, rspta_12)"
   ]
  },
  {
   "cell_type": "code",
   "execution_count": null,
   "metadata": {},
   "outputs": [],
   "source": []
  },
  {
   "cell_type": "markdown",
   "metadata": {},
   "source": [
    "# 13 -----------------------------------------"
   ]
  },
  {
   "cell_type": "code",
   "execution_count": 113,
   "metadata": {},
   "outputs": [],
   "source": [
    "def get_maxima_utilidad(funcion_costo, funcion_demanda, **kwargs):\n",
    "    Ix = funcion_demanda*x\n",
    "    display(\"Ingreso total: \", Ix)\n",
    "    print(\"-\"*100)\n",
    "    \n",
    "    Ux = Ix - funcion_costo\n",
    "    display(\"UTILIDAD: \", Ux)\n",
    "    print(\"-\"*100)\n",
    "    \n",
    "    nivel_produccion = get_print_derivate(Ux, search='maximo', **kwargs)\n",
    "    \n",
    "    return nivel_produccion"
   ]
  },
  {
   "cell_type": "markdown",
   "metadata": {},
   "source": [
    "La cantidad mensual demandada del disco de Walter Serkin con la Sonata Claro de Luna de Beethoven,\n",
    "producida por Phonola, se relaciona con el precio por disco. La ecuación de la demanda está dada por"
   ]
  },
  {
   "cell_type": "code",
   "execution_count": 114,
   "metadata": {},
   "outputs": [
    {
     "data": {
      "image/png": "[encoded data removed]",
      "text/latex": [
       "$\\displaystyle 6 - 0.00042 x$"
      ],
      "text/plain": [
       "6 - 0.00042⋅x"
      ]
     },
     "execution_count": 114,
     "metadata": {},
     "output_type": "execute_result"
    }
   ],
   "source": [
    "px = - 0.00042*x + 6\n",
    "px"
   ]
  },
  {
   "cell_type": "markdown",
   "metadata": {},
   "source": [
    "donde p denota el precio unitario en dólares y x es el número de\n",
    "discos demandados. El costo total mensual en dólares por la impresión y empacado de x copias de este\n",
    "disco clásico está dado por"
   ]
  },
  {
   "cell_type": "code",
   "execution_count": 115,
   "metadata": {},
   "outputs": [
    {
     "data": {
      "image/png": "[encoded data removed]",
      "text/latex": [
       "$\\displaystyle - 2.0 \\cdot 10^{-5} x^{2} + 2 x + 600$"
      ],
      "text/plain": [
       "          2            \n",
       "- 2.0e-5⋅x  + 2⋅x + 600"
      ]
     },
     "execution_count": 115,
     "metadata": {},
     "output_type": "execute_result"
    }
   ],
   "source": [
    "cx = 600 + 2*x - 0.00002*x**2\n",
    "cx"
   ]
  },
  {
   "cell_type": "markdown",
   "metadata": {},
   "source": [
    "¿Cuántas copias mensuales\n",
    "debe producir Phonola para maximizar sus utilidades?"
   ]
  },
  {
   "cell_type": "markdown",
   "metadata": {},
   "source": [
    "#### Solucion"
   ]
  },
  {
   "cell_type": "code",
   "execution_count": 116,
   "metadata": {},
   "outputs": [
    {
     "data": {
      "text/plain": [
       "'Ingreso total: '"
      ]
     },
     "metadata": {},
     "output_type": "display_data"
    },
    {
     "data": {
      "image/png": "[encoded data removed]",
      "text/latex": [
       "$\\displaystyle x \\left(6 - 0.00042 x\\right)$"
      ],
      "text/plain": [
       "x⋅(6 - 0.00042⋅x)"
      ]
     },
     "metadata": {},
     "output_type": "display_data"
    },
    {
     "name": "stdout",
     "output_type": "stream",
     "text": [
      "----------------------------------------------------------------------------------------------------\n"
     ]
    },
    {
     "data": {
      "text/plain": [
       "'UTILIDAD: '"
      ]
     },
     "metadata": {},
     "output_type": "display_data"
    },
    {
     "data": {
      "image/png": "[encoded data removed]",
      "text/latex": [
       "$\\displaystyle 2.0 \\cdot 10^{-5} x^{2} + x \\left(6 - 0.00042 x\\right) - 2 x - 600$"
      ],
      "text/plain": [
       "        2                                \n",
       "2.0e-5⋅x  + x⋅(6 - 0.00042⋅x) - 2⋅x - 600"
      ]
     },
     "metadata": {},
     "output_type": "display_data"
    },
    {
     "name": "stdout",
     "output_type": "stream",
     "text": [
      "----------------------------------------------------------------------------------------------------\n",
      "1- Obtenemos la derivada: \n"
     ]
    },
    {
     "data": {
      "image/png": "[encoded data removed]",
      "text/latex": [
       "$\\displaystyle 4 - \\frac{x}{1000}$"
      ],
      "text/plain": [
       "     x  \n",
       "4 - ────\n",
       "    1000"
      ]
     },
     "metadata": {},
     "output_type": "display_data"
    },
    {
     "data": {
      "text/plain": [
       "'-----derivada factorizada:    '"
      ]
     },
     "metadata": {},
     "output_type": "display_data"
    },
    {
     "data": {
      "image/png": "[encoded data removed]",
      "text/latex": [
       "$\\displaystyle - 4.0 \\left(0.0002 x - 1.0\\right)$"
      ],
      "text/plain": [
       "-4.0⋅(0.0002⋅x - 1.0)"
      ]
     },
     "metadata": {},
     "output_type": "display_data"
    },
    {
     "data": {
      "text/plain": [
       "'-----factorizado con formato:    '"
      ]
     },
     "metadata": {},
     "output_type": "display_data"
    },
    {
     "data": {
      "image/png": "[encoded data removed]",
      "text/latex": [
       "$\\displaystyle 4$"
      ],
      "text/plain": [
       "4"
      ]
     },
     "metadata": {},
     "output_type": "display_data"
    },
    {
     "name": "stdout",
     "output_type": "stream",
     "text": [
      "----------------------------------------------------------------------------------------------------\n"
     ]
    },
    {
     "data": {
      "text/plain": [
       "'2- Hallamos los Puntos críticos:      '"
      ]
     },
     "metadata": {},
     "output_type": "display_data"
    },
    {
     "data": {
      "text/plain": [
       "'5000.00000000000'"
      ]
     },
     "metadata": {},
     "output_type": "display_data"
    },
    {
     "name": "stdout",
     "output_type": "stream",
     "text": [
      "----------------------------------------------------------------------------------------------------\n",
      "3- Calculamos la 2da derivada: \n"
     ]
    },
    {
     "data": {
      "image/png": "[encoded data removed]",
      "text/latex": [
       "$\\displaystyle - \\frac{1}{1000}$"
      ],
      "text/plain": [
       "-1/1000"
      ]
     },
     "metadata": {},
     "output_type": "display_data"
    },
    {
     "name": "stdout",
     "output_type": "stream",
     "text": [
      "----------------------------------------------------------------------------------------------------\n",
      "4- Identificamos los máximos y mínimos relativos: \n",
      "(5000.00000000000, 9400.00000000000) (5000, 9400)  :  maximo\n",
      "\n",
      "----------------------------------------------------------------------------------------------------\n",
      "Solucion:  5000.00000000000\n"
     ]
    },
    {
     "data": {
      "image/png": "[encoded data removed]",
      "text/plain": [
       "<Figure size 432x288 with 1 Axes>"
      ]
     },
     "metadata": {
      "needs_background": "light"
     },
     "output_type": "display_data"
    }
   ],
   "source": [
    "rspta_13 = get_maxima_utilidad(cx, px, separador=10, step=1)"
   ]
  },
  {
   "cell_type": "markdown",
   "metadata": {},
   "source": [
    "#### Rspta"
   ]
  },
  {
   "cell_type": "code",
   "execution_count": 99,
   "metadata": {},
   "outputs": [
    {
     "data": {
      "image/png": "[encoded data removed]",
      "text/latex": [
       "$\\displaystyle 5000.0$"
      ],
      "text/plain": [
       "5000.00000000000"
      ]
     },
     "execution_count": 99,
     "metadata": {},
     "output_type": "execute_result"
    }
   ],
   "source": [
    "rspta_13"
   ]
  },
  {
   "cell_type": "code",
   "execution_count": null,
   "metadata": {},
   "outputs": [],
   "source": []
  },
  {
   "cell_type": "markdown",
   "metadata": {},
   "source": [
    "# 14 -----------------------------------------"
   ]
  },
  {
   "cell_type": "markdown",
   "metadata": {},
   "source": [
    "Un fabricante de raquetas de tenis ha determinado que el costo total C(x) (en dólares) por la producción\n",
    "de x raquetas por día está dado por"
   ]
  },
  {
   "cell_type": "code",
   "execution_count": 100,
   "metadata": {},
   "outputs": [
    {
     "data": {
      "image/png": "[encoded data removed]",
      "text/latex": [
       "$\\displaystyle 0.0001 x^{2} + 4 x + 400$"
      ],
      "text/plain": [
       "        2            \n",
       "0.0001⋅x  + 4⋅x + 400"
      ]
     },
     "execution_count": 100,
     "metadata": {},
     "output_type": "execute_result"
    }
   ],
   "source": [
    "cx = 400 + 4*x + 0.0001*x**2\n",
    "cx"
   ]
  },
  {
   "cell_type": "markdown",
   "metadata": {},
   "source": [
    ". Cada raqueta debe venderse a un\n",
    "precio de p dólares, donde p se relaciona con x mediante la ecuación de demanda:"
   ]
  },
  {
   "cell_type": "code",
   "execution_count": 101,
   "metadata": {},
   "outputs": [
    {
     "data": {
      "image/png": "[encoded data removed]",
      "text/latex": [
       "$\\displaystyle 10 - 0.0004 x$"
      ],
      "text/plain": [
       "10 - 0.0004⋅x"
      ]
     },
     "execution_count": 101,
     "metadata": {},
     "output_type": "execute_result"
    }
   ],
   "source": [
    "px = 10 - 0.0004*x\n",
    "px"
   ]
  },
  {
   "cell_type": "markdown",
   "metadata": {},
   "source": [
    " Si es posible vender todas las raquetas fabricadas, ¿cuál es el nivel diario de producción\n",
    "que rinde la utilidad máxima para el fabricante?"
   ]
  },
  {
   "cell_type": "markdown",
   "metadata": {},
   "source": [
    "#### Solucion"
   ]
  },
  {
   "cell_type": "code",
   "execution_count": 118,
   "metadata": {},
   "outputs": [
    {
     "data": {
      "text/plain": [
       "'Ingreso total: '"
      ]
     },
     "metadata": {},
     "output_type": "display_data"
    },
    {
     "data": {
      "image/png": "[encoded data removed]",
      "text/latex": [
       "$\\displaystyle x \\left(6 - 0.00042 x\\right)$"
      ],
      "text/plain": [
       "x⋅(6 - 0.00042⋅x)"
      ]
     },
     "metadata": {},
     "output_type": "display_data"
    },
    {
     "name": "stdout",
     "output_type": "stream",
     "text": [
      "----------------------------------------------------------------------------------------------------\n"
     ]
    },
    {
     "data": {
      "text/plain": [
       "'UTILIDAD: '"
      ]
     },
     "metadata": {},
     "output_type": "display_data"
    },
    {
     "data": {
      "image/png": "[encoded data removed]",
      "text/latex": [
       "$\\displaystyle 2.0 \\cdot 10^{-5} x^{2} + x \\left(6 - 0.00042 x\\right) - 2 x - 600$"
      ],
      "text/plain": [
       "        2                                \n",
       "2.0e-5⋅x  + x⋅(6 - 0.00042⋅x) - 2⋅x - 600"
      ]
     },
     "metadata": {},
     "output_type": "display_data"
    },
    {
     "name": "stdout",
     "output_type": "stream",
     "text": [
      "----------------------------------------------------------------------------------------------------\n",
      "1- Obtenemos la derivada: \n"
     ]
    },
    {
     "data": {
      "image/png": "[encoded data removed]",
      "text/latex": [
       "$\\displaystyle 4 - \\frac{x}{1000}$"
      ],
      "text/plain": [
       "     x  \n",
       "4 - ────\n",
       "    1000"
      ]
     },
     "metadata": {},
     "output_type": "display_data"
    },
    {
     "data": {
      "text/plain": [
       "'-----derivada factorizada:    '"
      ]
     },
     "metadata": {},
     "output_type": "display_data"
    },
    {
     "data": {
      "image/png": "[encoded data removed]",
      "text/latex": [
       "$\\displaystyle - 4.0 \\left(0.0002 x - 1.0\\right)$"
      ],
      "text/plain": [
       "-4.0⋅(0.0002⋅x - 1.0)"
      ]
     },
     "metadata": {},
     "output_type": "display_data"
    },
    {
     "data": {
      "text/plain": [
       "'-----factorizado con formato:    '"
      ]
     },
     "metadata": {},
     "output_type": "display_data"
    },
    {
     "data": {
      "image/png": "[encoded data removed]",
      "text/latex": [
       "$\\displaystyle 4$"
      ],
      "text/plain": [
       "4"
      ]
     },
     "metadata": {},
     "output_type": "display_data"
    },
    {
     "name": "stdout",
     "output_type": "stream",
     "text": [
      "----------------------------------------------------------------------------------------------------\n"
     ]
    },
    {
     "data": {
      "text/plain": [
       "'2- Hallamos los Puntos críticos:      '"
      ]
     },
     "metadata": {},
     "output_type": "display_data"
    },
    {
     "data": {
      "text/plain": [
       "'5000.00000000000'"
      ]
     },
     "metadata": {},
     "output_type": "display_data"
    },
    {
     "name": "stdout",
     "output_type": "stream",
     "text": [
      "----------------------------------------------------------------------------------------------------\n",
      "3- Calculamos la 2da derivada: \n"
     ]
    },
    {
     "data": {
      "image/png": "[encoded data removed]",
      "text/latex": [
       "$\\displaystyle - \\frac{1}{1000}$"
      ],
      "text/plain": [
       "-1/1000"
      ]
     },
     "metadata": {},
     "output_type": "display_data"
    },
    {
     "name": "stdout",
     "output_type": "stream",
     "text": [
      "----------------------------------------------------------------------------------------------------\n",
      "4- Identificamos los máximos y mínimos relativos: \n",
      "(5000.00000000000, 9400.00000000000) (5000, 9400)  :  maximo\n",
      "\n",
      "----------------------------------------------------------------------------------------------------\n",
      "Solucion:  5000.00000000000\n"
     ]
    },
    {
     "data": {
      "image/png": "[encoded data removed]",
      "text/plain": [
       "<Figure size 432x288 with 1 Axes>"
      ]
     },
     "metadata": {
      "needs_background": "light"
     },
     "output_type": "display_data"
    },
    {
     "data": {
      "image/png": "[encoded data removed]",
      "text/latex": [
       "$\\displaystyle 5000.0$"
      ],
      "text/plain": [
       "5000.00000000000"
      ]
     },
     "execution_count": 118,
     "metadata": {},
     "output_type": "execute_result"
    }
   ],
   "source": [
    "get_maxima_utilidad(cx, px, separador=100, step=5)"
   ]
  },
  {
   "cell_type": "code",
   "execution_count": null,
   "metadata": {},
   "outputs": [],
   "source": []
  },
  {
   "cell_type": "code",
   "execution_count": null,
   "metadata": {},
   "outputs": [],
   "source": []
  }
 ],
 "metadata": {
  "kernelspec": {
   "display_name": "Python 3",
   "language": "python",
   "name": "python3"
  },
  "language_info": {
   "codemirror_mode": {
    "name": "ipython",
    "version": 3
   },
   "file_extension": ".py",
   "mimetype": "text/x-python",
   "name": "python",
   "nbconvert_exporter": "python",
   "pygments_lexer": "ipython3",
   "version": "3.8.3"
  }
 },
 "nbformat": 4,
 "nbformat_minor": 4
}
