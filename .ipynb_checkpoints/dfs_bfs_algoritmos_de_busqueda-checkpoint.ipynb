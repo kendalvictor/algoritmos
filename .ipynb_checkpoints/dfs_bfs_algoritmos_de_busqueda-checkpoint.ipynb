{
 "cells": [
  {
   "cell_type": "code",
   "execution_count": 1,
   "metadata": {},
   "outputs": [],
   "source": [
    "from collections import deque as Fifo"
   ]
  },
  {
   "cell_type": "code",
   "execution_count": 2,
   "metadata": {},
   "outputs": [],
   "source": [
    "class Vertice:\n",
    "    def __init__(self, name):\n",
    "        self.name = str(name)\n",
    "        self.expanded = False\n",
    "        self.children = []\n",
    "\n",
    "    def expanding(self):\n",
    "        self.expandido = True\n",
    "\n",
    "    def is_expanded(self):\n",
    "        return self.expanded\n",
    "    \n",
    "    def set_children(self, children_list):\n",
    "        if isinstance(children_list, list):\n",
    "            self.children = children_list\n",
    "\n",
    "    def n_children(self):\n",
    "        return len(self.children)"
   ]
  },
  {
   "cell_type": "code",
   "execution_count": 3,
   "metadata": {},
   "outputs": [],
   "source": [
    "class Lifo:\n",
    "    def __init__(self):\n",
    "        self.items=[]\n",
    "\n",
    "    def apilar(self, x):\n",
    "        self.items.append(x)\n",
    "    \n",
    "    def apilar_bloque(self, _list):\n",
    "        self.items.extend(_list)\n",
    "\n",
    "    def desapilar(self):\n",
    "        try:\n",
    "            return self.items.pop()\n",
    "        except IndexError:\n",
    "            print(\"Error-La pila está vacía\")\n",
    "            return None\n",
    "    \n",
    "    @property\n",
    "    def es_vacia(self):\n",
    "        return self.items == []"
   ]
  },
  {
   "cell_type": "code",
   "execution_count": 4,
   "metadata": {},
   "outputs": [],
   "source": [
    "class Element:\n",
    "    def __init__(self, vertice, subindice=''):\n",
    "        self.vertice = vertice\n",
    "        self.subindice = subindice"
   ]
  },
  {
   "cell_type": "code",
   "execution_count": 5,
   "metadata": {},
   "outputs": [],
   "source": [
    "a = Vertice(\"A\")\n",
    "b = Vertice(\"B\")\n",
    "c = Vertice(\"C\")\n",
    "d = Vertice(\"D\")\n",
    "e = Vertice(\"E\")\n",
    "f = Vertice(\"F\")\n",
    "\n",
    "a.set_children([e, c, b])\n",
    "b.set_children([e])\n",
    "c.set_children([d])\n",
    "d.set_children([f])\n",
    "e.set_children([f, d])"
   ]
  },
  {
   "cell_type": "code",
   "execution_count": 6,
   "metadata": {},
   "outputs": [
    {
     "data": {
      "text/plain": [
       "True"
      ]
     },
     "execution_count": 6,
     "metadata": {},
     "output_type": "execute_result"
    }
   ],
   "source": [
    "pila = Lifo()\n",
    "pila.es_vacia"
   ]
  },
  {
   "cell_type": "code",
   "execution_count": 7,
   "metadata": {},
   "outputs": [
    {
     "name": "stdout",
     "output_type": "stream",
     "text": [
      "['__class__', '__delattr__', '__dict__', '__dir__', '__doc__', '__eq__', '__format__', '__ge__', '__getattribute__', '__gt__', '__hash__', '__init__', '__init_subclass__', '__le__', '__lt__', '__module__', '__ne__', '__new__', '__reduce__', '__reduce_ex__', '__repr__', '__setattr__', '__sizeof__', '__str__', '__subclasshook__', '__weakref__', 'apilar', 'apilar_bloque', 'desapilar', 'es_vacia', 'items']\n"
     ]
    }
   ],
   "source": [
    "print(dir(pila))"
   ]
  },
  {
   "cell_type": "code",
   "execution_count": 8,
   "metadata": {},
   "outputs": [],
   "source": [
    "def dfs(punto_inicio, punto_fin, agenda, n_iteracion=1, order_alfabeitco=True):\n",
    "    \n",
    "    goal = punto_fin.name\n",
    "    \n",
    "    # Primera iteracion\n",
    "    if agenda.es_vacia:\n",
    "        agenda.apilar(Element(punto_inicio))\n",
    "    \n",
    "    # validacion de parada\n",
    "    point_names = [(el.vertice.name, el.subindice) for el in agenda.items]\n",
    "    print(\"Nro Iteración: \", n_iteracion)\n",
    "    print(point_names)\n",
    "    \n",
    "    dicc_points = dict(point_names)\n",
    "    if goal in dicc_points.keys():\n",
    "        print(\"Se detectó punto de llegada en la agenda\")\n",
    "        return (dicc_points[goal] + ' -> ' + goal).upper()\n",
    "    \n",
    "    # Freno\n",
    "    #if n_iteracion > 15:\n",
    "    #    print(\"Se llegó a 15 interacciones, STOP\")\n",
    "    #    return agenda\n",
    "    \n",
    "    # marcamos al ultimo elemento a ingresar como expandido\n",
    "    ultimo_ingresado = agenda.desapilar()\n",
    "    ultimo_ingresado.vertice.expanding()\n",
    "    \n",
    "    #hijos\n",
    "    hijos = sorted(\n",
    "        ultimo_ingresado.vertice.children, key=lambda _: _.name\n",
    "    ) if order_alfabeitco else ultimo_ingresado.vertice.children\n",
    "    \n",
    "    nuevo_subindice = ultimo_ingresado.subindice + ' -> ' + ultimo_ingresado.vertice.name\n",
    "    \n",
    "    #Apilamiento en bloque\n",
    "    agenda.apilar_bloque(\n",
    "        [Element(hijo, nuevo_subindice.lower()) for hijo in hijos if not hijo.expanded]\n",
    "    )\n",
    "    \n",
    "    return dfs(punto_inicio, punto_fin, agenda, \n",
    "               n_iteracion=n_iteracion + 1, order_alfabeitco=order_alfabeitco)\n"
   ]
  },
  {
   "cell_type": "code",
   "execution_count": 9,
   "metadata": {},
   "outputs": [
    {
     "name": "stdout",
     "output_type": "stream",
     "text": [
      "Nro Iteración:  1\n",
      "[('A', '')]\n",
      "Nro Iteración:  2\n",
      "[('B', ' -> a'), ('C', ' -> a'), ('E', ' -> a')]\n",
      "Nro Iteración:  3\n",
      "[('B', ' -> a'), ('C', ' -> a'), ('D', ' -> a -> e'), ('F', ' -> a -> e')]\n",
      "Se detectó punto de llegada en la agenda\n"
     ]
    }
   ],
   "source": [
    "result = dfs(a, f, Lifo())"
   ]
  },
  {
   "cell_type": "code",
   "execution_count": 10,
   "metadata": {},
   "outputs": [
    {
     "data": {
      "text/plain": [
       "' -> A -> E -> F'"
      ]
     },
     "execution_count": 10,
     "metadata": {},
     "output_type": "execute_result"
    }
   ],
   "source": [
    "result"
   ]
  },
  {
   "cell_type": "code",
   "execution_count": 11,
   "metadata": {},
   "outputs": [],
   "source": [
    "def bfs(punto_inicio, punto_fin, agenda, n_iteracion=1, order_alfabeitco=True):\n",
    "    goal = punto_fin.name\n",
    "    \n",
    "    # Primera iteracion\n",
    "    if not agenda:\n",
    "        agenda.append(Element(punto_inicio))\n",
    "    \n",
    "    # validacion de parada\n",
    "    point_names = [(el.vertice.name, el.subindice) for el in agenda]\n",
    "    print(\"Nro Iteración: \", n_iteracion)\n",
    "    print(point_names)\n",
    "    \n",
    "    dicc_points = dict(point_names)\n",
    "    if goal in dicc_points.keys():\n",
    "        print(\"Se detectó punto de llegada en la agenda\")\n",
    "        return (dicc_points[goal] + ' -> ' + goal).upper()\n",
    "    \n",
    "    # Freno\n",
    "    #if n_iteracion > 15:\n",
    "    #    print(\"Se llegó a 15 interacciones, STOP\")\n",
    "    #   return agenda\n",
    "    \n",
    "    # marcamos al ultimo elemento a ingresar como expandido\n",
    "    primer_ingresado = agenda.popleft()\n",
    "    primer_ingresado.vertice.expanding()\n",
    "    \n",
    "    #hijos\n",
    "    hijos = sorted(\n",
    "        primer_ingresado.vertice.children, key=lambda _: _.name\n",
    "    ) if order_alfabeitco else primer_ingresado.vertice.children\n",
    "    \n",
    "    nuevo_subindice = primer_ingresado.subindice + ' -> ' + primer_ingresado.vertice.name\n",
    "    \n",
    "    #Encolamiento en bloque\n",
    "    for hijo in [Element(hijo, nuevo_subindice.lower()) for hijo in hijos if not hijo.expanded]:\n",
    "        agenda.append(hijo)\n",
    "        \n",
    "    return bfs(punto_inicio, punto_fin, agenda, \n",
    "               n_iteracion=n_iteracion + 1, order_alfabeitco=order_alfabeitco)"
   ]
  },
  {
   "cell_type": "code",
   "execution_count": 12,
   "metadata": {},
   "outputs": [
    {
     "name": "stdout",
     "output_type": "stream",
     "text": [
      "no existe\n",
      "existe ahora si\n"
     ]
    }
   ],
   "source": [
    "cola = Fifo()\n",
    "\n",
    "if not cola:\n",
    "    print(\"no existe\")\n",
    "    \n",
    "cola.append('a')\n",
    "\n",
    "if cola:\n",
    "    print(\"existe ahora si\")"
   ]
  },
  {
   "cell_type": "code",
   "execution_count": 13,
   "metadata": {},
   "outputs": [
    {
     "name": "stdout",
     "output_type": "stream",
     "text": [
      "Nro Iteración:  1\n",
      "[('A', '')]\n",
      "Nro Iteración:  2\n",
      "[('B', ' -> a'), ('C', ' -> a'), ('E', ' -> a')]\n",
      "Nro Iteración:  3\n",
      "[('C', ' -> a'), ('E', ' -> a'), ('E', ' -> a -> b')]\n",
      "Nro Iteración:  4\n",
      "[('E', ' -> a'), ('E', ' -> a -> b'), ('D', ' -> a -> c')]\n",
      "Nro Iteración:  5\n",
      "[('E', ' -> a -> b'), ('D', ' -> a -> c'), ('D', ' -> a -> e'), ('F', ' -> a -> e')]\n",
      "Se detectó punto de llegada en la agenda\n"
     ]
    }
   ],
   "source": [
    "result = bfs(a, f, Fifo())"
   ]
  },
  {
   "cell_type": "code",
   "execution_count": 14,
   "metadata": {},
   "outputs": [
    {
     "data": {
      "text/plain": [
       "' -> A -> E -> F'"
      ]
     },
     "execution_count": 14,
     "metadata": {},
     "output_type": "execute_result"
    }
   ],
   "source": [
    "result"
   ]
  },
  {
   "cell_type": "code",
   "execution_count": null,
   "metadata": {},
   "outputs": [],
   "source": []
  },
  {
   "cell_type": "markdown",
   "metadata": {},
   "source": [
    "### EJERCICIO RUTA PERU"
   ]
  },
  {
   "cell_type": "code",
   "execution_count": 15,
   "metadata": {},
   "outputs": [],
   "source": [
    "tumbes = Vertice(\"tumbes\")\n",
    "trujillo = Vertice(\"trujillo\")\n",
    "moyobamba = Vertice(\"moyobamba\")\n",
    "iquitos = Vertice(\"iquitos\")\n",
    "lima = Vertice(\"lima\")\n",
    "huancayo = Vertice(\"huancayo\")\n",
    "puertoMaldonado = Vertice(\"puertoMaldonado\")\n",
    "nazca = Vertice(\"nazca\")\n",
    "cusco = Vertice(\"cusco\")\n",
    "arequipa = Vertice(\"arequipa\")"
   ]
  },
  {
   "cell_type": "code",
   "execution_count": 16,
   "metadata": {},
   "outputs": [],
   "source": [
    "tumbes.set_children([trujillo, moyobamba, iquitos])\n",
    "trujillo.set_children([lima, huancayo])\n",
    "moyobamba.set_children([huancayo])\n",
    "iquitos.set_children([huancayo, cusco])\n",
    "lima.set_children([nazca])\n",
    "huancayo.set_children([arequipa, puertoMaldonado])\n",
    "nazca.set_children([arequipa])\n",
    "cusco.set_children([arequipa])\n",
    "puertoMaldonado.set_children([arequipa])"
   ]
  },
  {
   "cell_type": "code",
   "execution_count": 17,
   "metadata": {},
   "outputs": [
    {
     "name": "stdout",
     "output_type": "stream",
     "text": [
      "Nro Iteración:  1\n",
      "[('tumbes', '')]\n",
      "Nro Iteración:  2\n",
      "[('iquitos', ' -> tumbes'), ('moyobamba', ' -> tumbes'), ('trujillo', ' -> tumbes')]\n",
      "Nro Iteración:  3\n",
      "[('iquitos', ' -> tumbes'), ('moyobamba', ' -> tumbes'), ('huancayo', ' -> tumbes -> trujillo'), ('lima', ' -> tumbes -> trujillo')]\n",
      "Nro Iteración:  4\n",
      "[('iquitos', ' -> tumbes'), ('moyobamba', ' -> tumbes'), ('huancayo', ' -> tumbes -> trujillo'), ('nazca', ' -> tumbes -> trujillo -> lima')]\n",
      "Nro Iteración:  5\n",
      "[('iquitos', ' -> tumbes'), ('moyobamba', ' -> tumbes'), ('huancayo', ' -> tumbes -> trujillo'), ('arequipa', ' -> tumbes -> trujillo -> lima -> nazca')]\n",
      "Se detectó punto de llegada en la agenda\n",
      "\n",
      "  -> TUMBES -> TRUJILLO -> LIMA -> NAZCA -> AREQUIPA\n"
     ]
    }
   ],
   "source": [
    "ruta = dfs(tumbes, arequipa, Lifo())\n",
    "print('\\n', ruta)"
   ]
  },
  {
   "cell_type": "code",
   "execution_count": 18,
   "metadata": {},
   "outputs": [
    {
     "name": "stdout",
     "output_type": "stream",
     "text": [
      "Nro Iteración:  1\n",
      "[('tumbes', '')]\n",
      "Nro Iteración:  2\n",
      "[('trujillo', ' -> tumbes'), ('moyobamba', ' -> tumbes'), ('iquitos', ' -> tumbes')]\n",
      "Nro Iteración:  3\n",
      "[('trujillo', ' -> tumbes'), ('moyobamba', ' -> tumbes'), ('huancayo', ' -> tumbes -> iquitos'), ('cusco', ' -> tumbes -> iquitos')]\n",
      "Nro Iteración:  4\n",
      "[('trujillo', ' -> tumbes'), ('moyobamba', ' -> tumbes'), ('huancayo', ' -> tumbes -> iquitos'), ('arequipa', ' -> tumbes -> iquitos -> cusco')]\n",
      "Se detectó punto de llegada en la agenda\n",
      "\n",
      "  -> TUMBES -> IQUITOS -> CUSCO -> AREQUIPA\n"
     ]
    }
   ],
   "source": [
    "ruta = dfs(tumbes, arequipa, Lifo(), order_alfabeitco=False)\n",
    "print('\\n', ruta)"
   ]
  },
  {
   "cell_type": "code",
   "execution_count": 19,
   "metadata": {},
   "outputs": [
    {
     "name": "stdout",
     "output_type": "stream",
     "text": [
      "Nro Iteración:  1\n",
      "[('tumbes', '')]\n",
      "Nro Iteración:  2\n",
      "[('iquitos', ' -> tumbes'), ('moyobamba', ' -> tumbes'), ('trujillo', ' -> tumbes')]\n",
      "Nro Iteración:  3\n",
      "[('moyobamba', ' -> tumbes'), ('trujillo', ' -> tumbes'), ('cusco', ' -> tumbes -> iquitos'), ('huancayo', ' -> tumbes -> iquitos')]\n",
      "Nro Iteración:  4\n",
      "[('trujillo', ' -> tumbes'), ('cusco', ' -> tumbes -> iquitos'), ('huancayo', ' -> tumbes -> iquitos'), ('huancayo', ' -> tumbes -> moyobamba')]\n",
      "Nro Iteración:  5\n",
      "[('cusco', ' -> tumbes -> iquitos'), ('huancayo', ' -> tumbes -> iquitos'), ('huancayo', ' -> tumbes -> moyobamba'), ('huancayo', ' -> tumbes -> trujillo'), ('lima', ' -> tumbes -> trujillo')]\n",
      "Nro Iteración:  6\n",
      "[('huancayo', ' -> tumbes -> iquitos'), ('huancayo', ' -> tumbes -> moyobamba'), ('huancayo', ' -> tumbes -> trujillo'), ('lima', ' -> tumbes -> trujillo'), ('arequipa', ' -> tumbes -> iquitos -> cusco')]\n",
      "Se detectó punto de llegada en la agenda\n",
      "\n",
      "  -> TUMBES -> IQUITOS -> CUSCO -> AREQUIPA\n"
     ]
    }
   ],
   "source": [
    "ruta = bfs(tumbes, arequipa, Fifo())\n",
    "print('\\n', ruta)"
   ]
  },
  {
   "cell_type": "code",
   "execution_count": 20,
   "metadata": {},
   "outputs": [
    {
     "name": "stdout",
     "output_type": "stream",
     "text": [
      "Nro Iteración:  1\n",
      "[('tumbes', '')]\n",
      "Nro Iteración:  2\n",
      "[('trujillo', ' -> tumbes'), ('moyobamba', ' -> tumbes'), ('iquitos', ' -> tumbes')]\n",
      "Nro Iteración:  3\n",
      "[('moyobamba', ' -> tumbes'), ('iquitos', ' -> tumbes'), ('lima', ' -> tumbes -> trujillo'), ('huancayo', ' -> tumbes -> trujillo')]\n",
      "Nro Iteración:  4\n",
      "[('iquitos', ' -> tumbes'), ('lima', ' -> tumbes -> trujillo'), ('huancayo', ' -> tumbes -> trujillo'), ('huancayo', ' -> tumbes -> moyobamba')]\n",
      "Nro Iteración:  5\n",
      "[('lima', ' -> tumbes -> trujillo'), ('huancayo', ' -> tumbes -> trujillo'), ('huancayo', ' -> tumbes -> moyobamba'), ('huancayo', ' -> tumbes -> iquitos'), ('cusco', ' -> tumbes -> iquitos')]\n",
      "Nro Iteración:  6\n",
      "[('huancayo', ' -> tumbes -> trujillo'), ('huancayo', ' -> tumbes -> moyobamba'), ('huancayo', ' -> tumbes -> iquitos'), ('cusco', ' -> tumbes -> iquitos'), ('nazca', ' -> tumbes -> trujillo -> lima')]\n",
      "Nro Iteración:  7\n",
      "[('huancayo', ' -> tumbes -> moyobamba'), ('huancayo', ' -> tumbes -> iquitos'), ('cusco', ' -> tumbes -> iquitos'), ('nazca', ' -> tumbes -> trujillo -> lima'), ('arequipa', ' -> tumbes -> trujillo -> huancayo'), ('puertoMaldonado', ' -> tumbes -> trujillo -> huancayo')]\n",
      "Se detectó punto de llegada en la agenda\n",
      "\n",
      "  -> TUMBES -> TRUJILLO -> HUANCAYO -> AREQUIPA\n"
     ]
    }
   ],
   "source": [
    "ruta = bfs(tumbes, arequipa, Fifo(), order_alfabeitco=False)\n",
    "print('\\n', ruta)"
   ]
  },
  {
   "cell_type": "code",
   "execution_count": null,
   "metadata": {},
   "outputs": [],
   "source": []
  },
  {
   "cell_type": "code",
   "execution_count": null,
   "metadata": {},
   "outputs": [],
   "source": []
  }
 ],
 "metadata": {
  "kernelspec": {
   "display_name": "Python 3",
   "language": "python",
   "name": "python3"
  },
  "language_info": {
   "codemirror_mode": {
    "name": "ipython",
    "version": 3
   },
   "file_extension": ".py",
   "mimetype": "text/x-python",
   "name": "python",
   "nbconvert_exporter": "python",
   "pygments_lexer": "ipython3",
   "version": "3.7.6"
  }
 },
 "nbformat": 4,
 "nbformat_minor": 4
}
