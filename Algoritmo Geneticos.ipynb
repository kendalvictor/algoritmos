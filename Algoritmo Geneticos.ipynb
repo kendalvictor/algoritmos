{
 "cells": [
  {
   "cell_type": "markdown",
   "metadata": {},
   "source": [
    "<center> ALGORITMOS GENÉTICOS </center>"
   ]
  },
  {
   "cell_type": "code",
   "execution_count": 1,
   "metadata": {},
   "outputs": [],
   "source": [
    "#nativos\n",
    "import random\n",
    "\n",
    "# terceros\n",
    "import numpy as np\n",
    "from difflib import SequenceMatcher as SM"
   ]
  },
  {
   "cell_type": "code",
   "execution_count": 2,
   "metadata": {},
   "outputs": [
    {
     "name": "stdout",
     "output_type": "stream",
     "text": [
      "[97, 98, 99, 100, 101, 102, 103, 104, 105, 106, 107, 108, 109, 110, 111, 112, 113, 114, 115, 116, 117, 118, 119, 120, 121, 122]\n"
     ]
    }
   ],
   "source": [
    "objteivo = \"chaymantaqa ripusaqmi, hanaymanpas uraymanpas, wayra hina muyurispay, mayu hina qaparispay.\"\n",
    "\n",
    "valores_posibles = list(range(97, 123))\n",
    "print(valores_posibles)"
   ]
  },
  {
   "cell_type": "markdown",
   "metadata": {},
   "source": [
    "### ACOPLAMIENTO DE VALORES POSIBLES"
   ]
  },
  {
   "cell_type": "code",
   "execution_count": 3,
   "metadata": {},
   "outputs": [
    {
     "name": "stdout",
     "output_type": "stream",
     "text": [
      "[32, 44, 46, 97, 98, 99, 100, 101, 102, 103, 104, 105, 106, 107, 108, 109, 110, 111, 112, 113, 114, 115, 116, 117, 118, 119, 120, 121, 122]\n"
     ]
    }
   ],
   "source": [
    "def validacion_valores_posible(objteivo, valores_posibles):\n",
    "    valores_posibles += list({ord(caracter) for caracter in objteivo if ord(caracter)})\n",
    "    \n",
    "    return list(set(valores_posibles))\n",
    "\n",
    "valores_posibles = validacion_valores_posible(objteivo, valores_posibles)\n",
    "print(valores_posibles)"
   ]
  },
  {
   "cell_type": "markdown",
   "metadata": {},
   "source": [
    "### CREACION DE PRIMERA POBLACION"
   ]
  },
  {
   "cell_type": "code",
   "execution_count": 4,
   "metadata": {},
   "outputs": [],
   "source": [
    "def genera_poblacion_inicial_aleatoria(objteivo, n_poblacion, valores_posibles):\n",
    "    return [\n",
    "        ''.join(\n",
    "            [chr(random.choice(valores_posibles)) for _ in range(len(objteivo))]\n",
    "        ) for veces in range(n_poblacion)\n",
    "    ]"
   ]
  },
  {
   "cell_type": "markdown",
   "metadata": {},
   "source": [
    "### FUNCION DE COMPARACION CON OBJETIVO"
   ]
  },
  {
   "cell_type": "code",
   "execution_count": 5,
   "metadata": {},
   "outputs": [
    {
     "data": {
      "text/plain": [
       "(22, 45, 68)"
      ]
     },
     "execution_count": 5,
     "metadata": {},
     "output_type": "execute_result"
    }
   ],
   "source": [
    "primer_corte = int(1*len(objteivo) / 4)\n",
    "segundo_corte = int(2*len(objteivo) / 4)\n",
    "tercer_corte = int(3*len(objteivo) / 4)\n",
    "\n",
    "primer_corte, segundo_corte, tercer_corte"
   ]
  },
  {
   "cell_type": "code",
   "execution_count": 6,
   "metadata": {},
   "outputs": [],
   "source": [
    "def fitness_directo(individuo, objteivo):\n",
    "    # comparacion en tres puntos\n",
    "    return SM(None, objteivo, individuo).ratio()\n",
    "\n",
    "\n",
    "def fitness_tres_cortes(individuo, objteivo):\n",
    "    # comparacion en tres puntos\n",
    "    \n",
    "    valores = np.array([\n",
    "        SM(None, objteivo[:primer_corte], individuo[:primer_corte]).ratio(),\n",
    "        SM(None, objteivo[primer_corte:segundo_corte], individuo[primer_corte:segundo_corte]).ratio(),\n",
    "        SM(None, objteivo[segundo_corte:tercer_corte], individuo[segundo_corte:tercer_corte]).ratio(),\n",
    "        SM(None, objteivo[tercer_corte:], individuo[tercer_corte:]).ratio()\n",
    "    ])\n",
    "    #print(valores)\n",
    "    return np.median(valores)\n",
    "\n",
    "def fitness_conteo(individuo, objteivo):\n",
    "    n_objteivo = len(objteivo)\n",
    "    coincidentes = [1 for i in range(n_objteivo) if individuo[i] == objteivo[i]]\n",
    "    \n",
    "    return sum(coincidentes) / n_objteivo"
   ]
  },
  {
   "cell_type": "markdown",
   "metadata": {},
   "source": [
    "### FUNCION DE CRUZA\n"
   ]
  },
  {
   "cell_type": "code",
   "execution_count": 7,
   "metadata": {},
   "outputs": [],
   "source": [
    "def cruza_tres_cortes(individuo1, individuo2):\n",
    "    return individuo1[:primer_corte] + \\\n",
    "           individuo2[primer_corte:segundo_corte] + \\\n",
    "           individuo1[segundo_corte:tercer_corte] + \\\n",
    "           individuo2[tercer_corte:]\n",
    "\n",
    "def cruza_un_corte_al_azar(individuo1, individuo2):\n",
    "    corte_al_azar = random.randint(0, len(objteivo) - 1)\n",
    "    \n",
    "    return individuo1[:corte_al_azar] + \\\n",
    "           individuo2[corte_al_azar:]"
   ]
  },
  {
   "cell_type": "markdown",
   "metadata": {},
   "source": [
    "### FUNCION DE MUTACION"
   ]
  },
  {
   "cell_type": "code",
   "execution_count": 8,
   "metadata": {},
   "outputs": [],
   "source": [
    "def mutacion(individuo3, valores_posibles, ratio_mutacion):\n",
    "    individuo3_list = [caracter for caracter in individuo3]\n",
    "    \n",
    "    for posicion, caracter in enumerate(individuo3_list):\n",
    "        # A mayor indice_de_mutacion no se realizará la mmutacion\n",
    "        indice_de_mutacion = random.random()\n",
    "        \n",
    "        if indice_de_mutacion <= ratio_mutacion:\n",
    "            individuo3_list[posicion] = chr(random.choice(valores_posibles))\n",
    "    \n",
    "    return ''.join(individuo3_list)"
   ]
  },
  {
   "cell_type": "markdown",
   "metadata": {},
   "source": [
    "### AG"
   ]
  },
  {
   "cell_type": "code",
   "execution_count": 9,
   "metadata": {},
   "outputs": [
    {
     "name": "stdout",
     "output_type": "stream",
     "text": [
      "[32, 44, 46, 97, 98, 99, 100, 101, 102, 103, 104, 105, 106, 107, 108, 109, 110, 111, 112, 113, 114, 115, 116, 117, 118, 119, 120, 121, 122]\n"
     ]
    }
   ],
   "source": [
    "print(valores_posibles)"
   ]
  },
  {
   "cell_type": "code",
   "execution_count": 15,
   "metadata": {},
   "outputs": [
    {
     "data": {
      "text/plain": [
       "['tthkllim,.wbeu,ijky..jvyfsrsvkjdvdmqqzbpfhrowqh,.jqwaxwvtaumhsnfjqd.cyd,yc.lbzoiunzindmnz i',\n",
       " 'iewqjb,rzdnhwf.tr..rorjffu.qvrjazul qgiwb.cqqvez bbqak ztgwunefmeqesplq.ljavdecwknkoc.ecjri',\n",
       " 'vkguzlrozrr ,kiu,drnuw  xmhgumnlihwrxjk.bablfcshfyefajclgoijynogcmwmqrkupzzgwqukhlasf.yqsev']"
      ]
     },
     "execution_count": 15,
     "metadata": {},
     "output_type": "execute_result"
    }
   ],
   "source": [
    "n_poblacion = 2000\n",
    "\n",
    "poblacion_inicial = genera_poblacion_inicial_aleatoria(objteivo, n_poblacion, valores_posibles)\n",
    "poblacion_inicial[:3]"
   ]
  },
  {
   "cell_type": "code",
   "execution_count": 21,
   "metadata": {},
   "outputs": [],
   "source": [
    "objteivo = \"chaymantaqa ripusaqmi, hanaymanpas uraymanpas, wayra hina muyurispay, mayu hina qaparispay.\"\n",
    "ratio_mutacion = 0.05"
   ]
  },
  {
   "cell_type": "code",
   "execution_count": 24,
   "metadata": {},
   "outputs": [
    {
     "name": "stdout",
     "output_type": "stream",
     "text": [
      "generacion [1], mejor score [('jzpjeyk,nqffr,fyf.x.jsglbzhh urztazjhxicayhauom cyxy.wbipmmltbwysfhyt ntoi xkc ,q,.yckztf a', 0.12087912087912088)]\n",
      "generacion [2], mejor score [('ebah,dtkqumaxprbfufsuk wggjycgotrdq,dayknybtp urjy,uthqnuxjbeqdmjxmy.wueru iqzvmofpsuh,mudx', 0.13186813186813187)]\n",
      "generacion [3], mejor score [('blntgariallirzv rzqdrbphggjocgotrdq,dayknybtp urjy,uthqnuxjbeqdmjxmy.wueru iqzvmofpsuu,mudx', 0.15384615384615385)]\n",
      "generacion [4], mejor score [('vpzsomallhpfnrprs,qcr,qimzrkvhcajfxncpjxaqsnkg dvg,jmtze,m,yyprrspk,dmmahxbfbnlqqdparbhbzvs', 0.18681318681318682)]\n",
      "generacion [5], mejor score [('rhwwd.niwzgiayouw,wmgascan hfrcmfsihr iegn au,u,njbgfbisnwlkdgdmbxmy.iuerr fnnlqqdparrhbzvs', 0.2087912087912088)]\n",
      "generacion [6], mejor score [('zhhvmaqtrihg.sorsqenb,cwo ,vmtornwcnralbvnbts.sgscwpdhsnvm,gyprrslqmdsmayxbzbnlqqdparwhbzvs', 0.26373626373626374)]\n",
      "generacion [7], mejor score [('cgajuangnqjxzi,opwmf,,,vmoachmbp,qbjvalmanptsmobv,fz pnndm,yyprpppk,domahubfbnlqqd.arbhbjvs', 0.2967032967032967)]\n",
      "generacion [8], mejor score [('cgajuangnqjxzi.sptmf,,,vmoachmbp,cyrvavmanptsmo,n,fz hilijme.u.rspk,dxmahxbfbnl,qdparvkxct.', 0.32967032967032966)]\n",
      "generacion [9], mejor score [('cgaj anound rneu damwsccanxypqnpschzt ymanptsmo,n,fpdhsnvm,gyprrslqmdsmayxdzbnfqqd,arwhbzvs', 0.34065934065934067)]\n",
      "generacion [10], mejor score [('c ai angallhrupurzqmasphan hwmkp,qyedasmanptsmohv,fz drndm,ylprkppd,domayxbzbnlqqdparwcbzy.', 0.37362637362637363)]\n",
      "generacion [11], mejor score [('cgajuangcqj zi.txaezg,cxjnxhfrnpismsva.qanpau,jwmy,uthinim,yryrvspv,dgmaygbfbnfqqrparthbay.', 0.4175824175824176)]\n",
      "generacion [12], mejor score [('cgajuangcqj zi.rsaezg,cwjnahfrnpismsva.qanpart eyyrw hinkm,nyprpspk,dmmapxbhcnyqqdparsbjay.', 0.46153846153846156)]\n",
      "generacion [13], mejor score [('cgajuangcqj zi.usyqmr,jhan sf npisyevaomakpasmobi,,a pinvm,gyprrslqm.smayxbvbnaqqdparvkzay ', 0.46153846153846156)]\n",
      "generacion [14], mejor score [('cgajuangcqjjeiorsaezg, hanaybbnp,zbuva.qanpart eyyrw hinkm,ayprbspk,dmmapxbhcnyqquparsbjay.', 0.4945054945054945)]\n",
      "generacion [15], mejor score [('cpayhantaszir.vurzfmir hanahfrnpismsva.qanpavs eyyrw hinkm,nyprrspk,emmwyuyhnnpqqdparsgjay.', 0.5164835164835165)]\n",
      "generacion [16], mejor score [('cpayiantaszir.vuzzqmir hanayhrep,epuraymanp .evuayrr hlsavmuyprrspm, gmaygzfinaqqkparwgjac.', 0.5604395604395604)]\n",
      "generacion [17], mejor score [('chayxangeqj zieusa,mik hanahaanpgskuraymanpars eyyrx hinkm,,yprrspk,emmbyuyhnnpoqdparsgjay.', 0.6043956043956044)]\n",
      "generacion [18], mejor score [('chayxangeql zieusa,mik hanaraanpgskuraymanpars wayrh hlsavmyyprrspkggomayxuabsl qdpar.cpay.', 0.6263736263736264)]\n",
      "generacion [19], mejor score [('jhayxangeqj zi rsa,mi. hanaymabpvsmeracmanpau,vwmyrr hinaemyypruspm, hmaygzfinaqqkparisbay.', 0.6373626373626373)]\n",
      "generacion [20], mejor score [('chay anial. riquslqmr, hanaraanpgskuraymanpvs, wayrh hlsavmyyprrspaygxmay bhpnl qdpartcbay.', 0.6813186813186813)]\n",
      "generacion [21], mejor score [('chay anial. riquslqmr, hanaraanpgskuraymanpvs, wayrd hinkvmuyprrspmq vmayhzfinaqqkparisbay.', 0.7032967032967034)]\n",
      "generacion [22], mejor score [('chayxangjqm ripustqmir hanaymanpgskuraymanpau,yzayrh hlsavmcyprrspaygxmayxpcinaqqk,arisuay.', 0.7032967032967034)]\n",
      "generacion [23], mejor score [('chayhantaql rrpusqqmir hanaymanpfsnuraymanpvs, wayrd hinkvmuyvrrspdq vmayhzfina qsparisbay.', 0.7582417582417582)]\n",
      "generacion [24], mejor score [('cpayzantaqh ripusrqmir hanaymanpgskuraymanpe,, wayrd hinavmuyurrrpm,,wmaygzcinaqqkparisbay.', 0.7582417582417582)]\n",
      "generacion [25], mejor score [('chaymadtaqmxripuskqmir hanaymanpgsluraymanpvs, wayrw hinaemybfrispmj,gmayubhinagquparisaay.', 0.7802197802197802)]\n",
      "generacion [26], mejor score [('chayhantaql rrpusqqmir hanaymanpfsnuraymanpps, eayra hinagmuyprrspay.tmayu hynaqqiparisbay.', 0.8021978021978022)]\n",
      "generacion [27], mejor score [('craymsntaqm ripustqmir hanaymanpgskuraymanpqs, wayra hinagmuyprrspay.omayu hynaqqipavisbay.', 0.8021978021978022)]\n",
      "generacion [28], mejor score [('chayhantaql rrpusqqmir hanaymanpfskuraymanpas, wayra hinatmuyurispha,gmayuehinagquparisbiy.', 0.8241758241758241)]\n",
      "generacion [29], mejor score [('chaymantaqm ripustqmipzhanaymanp.skuraymanpqs, wayra hinavmuyprispayt mayuzhinaqqkpcrisbay.', 0.8351648351648352)]\n",
      "generacion [30], mejor score [('chaymantaqm ripustqmik hanaymanpgskuraymanpas, wayra hinavmuyurispv,vgmayunhinaqqkparisuay.', 0.8461538461538461)]\n",
      "generacion [31], mejor score [('chaymantaqm ripustqmik hanaymanpgskuraymanpas, wayra hinammuyurispaytsmayuzhina qrpariskay.', 0.8791208791208791)]\n",
      "generacion [32], mejor score [('chaymantaqm ripustqmik hanaymanpgskuraymanpas, wayra hinammuyurispaytsmayuzhina qrpariskay.', 0.8791208791208791)]\n",
      "generacion [33], mejor score [('chaymantaqm ripuslqmir hanaymanp s uraymanpas, wayra hinatmuyurispha, mayu hinamquparisuay.', 0.8901098901098901)]\n",
      "generacion [34], mejor score [('chaymantaqw ripuslqmi, hanaymanpaskurazmanpas, wayra hinagmuyurispaycomayu hina qiparisbay.', 0.9010989010989011)]\n",
      "generacion [35], mejor score [('chaymantaqm ripusaqmi, hanaymanp,snuraymanpas, wayra hinagmuyurispaycomayu hina qiparisbay.', 0.9120879120879121)]\n",
      "generacion [36], mejor score [('chaymantaqm ripusaomi, hanaymano snuraymanpas, wayra hina muyurispay. mayu hina qiparisbay.', 0.9120879120879121)]\n",
      "generacion [37], mejor score [('chaymantaqa rfpusaqmi, kanaymanpasxuraymanpas, wayra hinaemuyurispayc mayu hinaaqaparisyay.', 0.9230769230769231)]\n",
      "generacion [38], mejor score [('chaymantaqa ripustqmi, hanaymanpassubaymanpas, wayra hinatmuyurispay, mayuwhina qrparispay.', 0.9340659340659341)]\n",
      "generacion [39], mejor score [('chayuantaqa ripusaqmi, hanaymanpasauraymanpas, wayra hina muyurispay, mayu hinaeqapariqbay.', 0.945054945054945)]\n",
      "generacion [40], mejor score [('cwayuantaqa ripusaqmi, hanaymanpasauraymanpas, wayra hina muyurispay, mayu hinaeqaparispay.', 0.9560439560439561)]\n",
      "generacion [41], mejor score [('chaymantaqm ripusbqmi, hanaymanpasyuraymanpas, wayra hina muyurispay, mayu hina q parispay.', 0.9560439560439561)]\n",
      "generacion [42], mejor score [('chaymantaqm rizusaqmi, hanaymanpas uraymanpas, wayra hina muyurispay, mayu hinawqaparispay.', 0.967032967032967)]\n",
      "generacion [43], mejor score [('chaymantaqa ripusaqmi, hanaymanpas uraymanpas, wayra hina muyurispay, mayu hinaeqaparispay.', 0.989010989010989)]\n",
      "generacion [44], mejor score [('chaymantaqa ripusaqmi, hanaymanpas uraymanpas, wayra hina muyurispay, mayu hinaeqaparispay.', 0.989010989010989)]\n",
      "generacion [45], mejor score [('chaymantaqa ripusaqmi, hanaymanpas uraymgnpas, wayra hina muyurispay, mayu hina qaparispay.', 0.989010989010989)]\n",
      "generacion [46], mejor score [('chaymantaqa ripusaqmi, hanaymanpas uraymanpas, wayra hina muyurispay, mayu hinaeqaparispay.', 0.989010989010989)]\n",
      "generacion [47], individuo orden [1219] fitness [1.0]:  chaymantaqa ripusaqmi, hanaymanpas uraymanpas, wayra hina muyurispay, mayu hina qaparispay.\n"
     ]
    }
   ],
   "source": [
    "poblacion = poblacion_inicial\n",
    "generacion = 1\n",
    "\n",
    "while True:\n",
    "    hallado = False\n",
    "\n",
    "    # EVALUACION\n",
    "    for indice, individuo in enumerate(poblacion):\n",
    "        fitness = fitness_conteo(individuo, objteivo)\n",
    "        #print('generacion [{}], individuo orden [{}] fitness [{}]:  {}'.format(generacion, indice, round(fitness, 3), individuo))\n",
    "\n",
    "        if fitness == 1:\n",
    "            print('generacion [{}], individuo orden [{}] fitness [{}]:  {}'.format(generacion, indice, round(fitness, 3), individuo))\n",
    "            hallado = True\n",
    "            break\n",
    "\n",
    "\n",
    "    if hallado:\n",
    "        break\n",
    "\n",
    "    # SELECCION\n",
    "    siguiente_poblacion = []\n",
    "    n_seleccionados = int(n_poblacion*10/100)\n",
    "\n",
    "    # Obtengo el score por partes para seleccionar el 10% mejor\n",
    "    individuos_score_partes = sorted([\n",
    "            (individuo, fitness_conteo(individuo, objteivo)) for individuo in poblacion\n",
    "        ], \n",
    "        key=lambda _:_[1], \n",
    "        reverse=True\n",
    "    )[:n_seleccionados]\n",
    "    print('generacion [{}], mejor score [{}]'.format(generacion, individuos_score_partes[0]))\n",
    "    \n",
    "    # Seleccionados con la cantidad de veces a reproducirse\n",
    "    padres_seleccionados = dict([(_[0], int(round(_[1]*100))) for _ in individuos_score_partes])\n",
    "    #print(padres_seleccionados)\n",
    "    \n",
    "    #selecccionados con chance de reproducirse\n",
    "    seleccionados_con_chance = [k for k, v in padres_seleccionados.items() if v > 0]\n",
    "    \n",
    "    n_con_chance = len(seleccionados_con_chance)\n",
    "    #print(n_con_chance)\n",
    "    n_reproduccion = 0\n",
    "    \n",
    "    # REPRODUCCION\n",
    "    while n_con_chance not in [0, 1] and n_reproduccion < n_poblacion*3:\n",
    "        #print(\"->\", n_con_chance, n_reproduccion, n_poblacion)\n",
    "        orden_azar_1 = random.randint(0, n_con_chance - 1)\n",
    "        orden_azar_2 = random.randint(0, n_con_chance - 1) \n",
    "        \n",
    "        if orden_azar_1 == orden_azar_2:\n",
    "            #print(\"orden repetido - no reproduccion\")\n",
    "            continue\n",
    "            \n",
    "        padre_a = seleccionados_con_chance[orden_azar_1]\n",
    "        padre_b = seleccionados_con_chance[orden_azar_2]\n",
    "        \n",
    "        if padre_a == padre_b:\n",
    "            #print(\"mismos padres - no ]reproduccion\")\n",
    "            continue\n",
    "\n",
    "        # Aplico cruza\n",
    "        hijo = cruza_un_corte_al_azar(padre_a, padre_b)\n",
    "\n",
    "        # Aplico mutacion\n",
    "        mutado = mutacion(hijo, valores_posibles, ratio_mutacion)\n",
    "        siguiente_poblacion.append(mutado)\n",
    "\n",
    "        #Los padres disminuyen la chance de volver a reporducirse\n",
    "        padres_seleccionados[padre_a] -= 1\n",
    "        padres_seleccionados[padre_b] -= 1\n",
    "\n",
    "        # reinicio valores\n",
    "        seleccionados_con_chance = [k for k, v in padres_seleccionados.items() if v > 0]\n",
    "        n_con_chance = len(seleccionados_con_chance)\n",
    "        n_reproduccion += 1\n",
    "\n",
    "\n",
    "\n",
    "    generacion += 1\n",
    "    # la siguiente generacion seran los hijos \n",
    "    poblacion = siguiente_poblacion + [_[0] for _ in individuos_score_partes[:int(n_seleccionados/2)]]\n",
    "    #print(\"/\", len(poblacion))\n",
    "    \n",
    "    if generacion == 150:\n",
    "        break    \n"
   ]
  },
  {
   "cell_type": "code",
   "execution_count": null,
   "metadata": {},
   "outputs": [],
   "source": []
  },
  {
   "cell_type": "code",
   "execution_count": null,
   "metadata": {},
   "outputs": [],
   "source": []
  },
  {
   "cell_type": "code",
   "execution_count": null,
   "metadata": {},
   "outputs": [],
   "source": []
  },
  {
   "cell_type": "code",
   "execution_count": null,
   "metadata": {},
   "outputs": [],
   "source": []
  }
 ],
 "metadata": {
  "kernelspec": {
   "display_name": "Python 3",
   "language": "python",
   "name": "python3"
  },
  "language_info": {
   "codemirror_mode": {
    "name": "ipython",
    "version": 3
   },
   "file_extension": ".py",
   "mimetype": "text/x-python",
   "name": "python",
   "nbconvert_exporter": "python",
   "pygments_lexer": "ipython3",
   "version": "3.7.6"
  }
 },
 "nbformat": 4,
 "nbformat_minor": 4
}
