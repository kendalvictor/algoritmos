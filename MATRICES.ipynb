{
 "cells": [
  {
   "cell_type": "markdown",
   "metadata": {},
   "source": [
    "<center> SEMANA  N° 2 : MATRICES </center>\n",
    "<center> Víctor Mariano Villacorta Plasencia - 202013427</center>"
   ]
  },
  {
   "cell_type": "code",
   "execution_count": 1,
   "metadata": {},
   "outputs": [],
   "source": [
    "import numpy as np"
   ]
  },
  {
   "cell_type": "markdown",
   "metadata": {},
   "source": [
    "**1) Sean las matrices A y B siguientes:**"
   ]
  },
  {
   "cell_type": "code",
   "execution_count": 8,
   "metadata": {},
   "outputs": [
    {
     "data": {
      "text/plain": [
       "((3, 3), (3, 1))"
      ]
     },
     "execution_count": 8,
     "metadata": {},
     "output_type": "execute_result"
    }
   ],
   "source": [
    "A = np.array([\n",
    "    [20, 30, 50],\n",
    "    [30, 20, 60],\n",
    "    [30, 30, 32]\n",
    "])\n",
    "B = np.array([\n",
    "    [5],\n",
    "    [45],\n",
    "    [10]\n",
    "])\n",
    "\n",
    "A.shape, B.shape"
   ]
  },
  {
   "cell_type": "markdown",
   "metadata": {},
   "source": [
    "**Las columnas de A representan los litros de\n",
    "vino, ginebra y limonada que se han echado en\n",
    "tres bidones para formar cocteles. Por su parte\n",
    "la matriz B representa los precios por litro de\n",
    "cada uno de los 3 líquidos.**"
   ]
  },
  {
   "cell_type": "markdown",
   "metadata": {},
   "source": [
    "a) ¿Cuál es el significado real de la matriz\n",
    "A.B?\n"
   ]
  },
  {
   "cell_type": "code",
   "execution_count": 3,
   "metadata": {},
   "outputs": [
    {
     "data": {
      "text/plain": [
       "array([[1950],\n",
       "       [1650],\n",
       "       [1820]])"
      ]
     },
     "execution_count": 3,
     "metadata": {},
     "output_type": "execute_result"
    }
   ],
   "source": [
    "A.dot(B)"
   ]
  },
  {
   "cell_type": "markdown",
   "metadata": {},
   "source": [
    "RSPTA: El resultado nos muestra el precio total que costó las preparación de cada coctel "
   ]
  },
  {
   "cell_type": "markdown",
   "metadata": {},
   "source": [
    "b) Sea C la matriz \n"
   ]
  },
  {
   "cell_type": "code",
   "execution_count": 12,
   "metadata": {},
   "outputs": [
    {
     "data": {
      "text/plain": [
       "(1, 3)"
      ]
     },
     "execution_count": 12,
     "metadata": {},
     "output_type": "execute_result"
    }
   ],
   "source": [
    "C = np.array([3,4,5]).reshape(1,3)\n",
    "C.shape"
   ]
  },
  {
   "cell_type": "markdown",
   "metadata": {},
   "source": [
    " Hallar CAB y dar su significado real.  "
   ]
  },
  {
   "cell_type": "code",
   "execution_count": 15,
   "metadata": {},
   "outputs": [
    {
     "data": {
      "text/plain": [
       "array([[330, 320, 550]])"
      ]
     },
     "execution_count": 15,
     "metadata": {},
     "output_type": "execute_result"
    }
   ],
   "source": [
    "ca = C.dot(A)\n",
    "ca"
   ]
  },
  {
   "cell_type": "markdown",
   "metadata": {},
   "source": [
    "Hasta el momento tengo que para 3 vidones del 1er coctel, 4 vidones del 2do coctel y 5 vidones del 3er coctel obtengo 330 litros de vino, 320 litros de ginebra y 550 litros de limonada"
   ]
  },
  {
   "cell_type": "code",
   "execution_count": 17,
   "metadata": {},
   "outputs": [
    {
     "data": {
      "text/plain": [
       "array([[21550]])"
      ]
     },
     "execution_count": 17,
     "metadata": {},
     "output_type": "execute_result"
    }
   ],
   "source": [
    "cab = ca.dot(B)\n",
    "cab"
   ]
  },
  {
   "cell_type": "markdown",
   "metadata": {},
   "source": [
    "Conclusión final con 3 vidones del 1er coctel, 4 vidones del 2do coctel y 5 vidones del 3er coctel gasto 21550 soles"
   ]
  },
  {
   "cell_type": "code",
   "execution_count": null,
   "metadata": {},
   "outputs": [],
   "source": []
  },
  {
   "cell_type": "markdown",
   "metadata": {},
   "source": [
    "***2) Una firma de automóviles dispone de dos\n",
    "plantas de fabricación una en España y otra en\n",
    "Inglaterra, en los que fabrica dos modelos de\n",
    "coches M1  y M2, de tres colores x, y, z. Su\n",
    "capacidad de producción diaria en cada planta\n",
    "está dada por las siguientes matrices (A para\n",
    "España y B para Inglaterra).***"
   ]
  },
  {
   "cell_type": "code",
   "execution_count": 18,
   "metadata": {},
   "outputs": [
    {
     "data": {
      "text/plain": [
       "((3, 2), (3, 2))"
      ]
     },
     "execution_count": 18,
     "metadata": {},
     "output_type": "execute_result"
    }
   ],
   "source": [
    "A = np.array([\n",
    "    [300, 95],\n",
    "    [250, 100],\n",
    "    [200, 100]\n",
    "])\n",
    "B = np.array([\n",
    "    [190, 90],\n",
    "    [200, 100],\n",
    "    [150, 80]\n",
    "])\n",
    "\n",
    "A.shape, B.shape"
   ]
  },
  {
   "cell_type": "markdown",
   "metadata": {},
   "source": [
    "a) Determinar la representación matricial de\n",
    "la producción total por día. \n"
   ]
  },
  {
   "cell_type": "code",
   "execution_count": 19,
   "metadata": {},
   "outputs": [
    {
     "data": {
      "text/plain": [
       "array([[490, 185],\n",
       "       [450, 200],\n",
       "       [350, 180]])"
      ]
     },
     "execution_count": 19,
     "metadata": {},
     "output_type": "execute_result"
    }
   ],
   "source": [
    "A + B"
   ]
  },
  {
   "cell_type": "markdown",
   "metadata": {},
   "source": [
    "al sumar las matrices obtengo la producción total por modelo y color"
   ]
  },
  {
   "cell_type": "markdown",
   "metadata": {},
   "source": [
    "b) Si se eleva la producción en España un 20%\n",
    "y se disminuye en Inglaterra un 10% ¿qué\n",
    "matriz representa la nueva producción\n",
    "total? \n"
   ]
  },
  {
   "cell_type": "code",
   "execution_count": 23,
   "metadata": {},
   "outputs": [
    {
     "data": {
      "text/plain": [
       "array([[531., 195.],\n",
       "       [480., 210.],\n",
       "       [375., 192.]])"
      ]
     },
     "execution_count": 23,
     "metadata": {},
     "output_type": "execute_result"
    }
   ],
   "source": [
    "(120/100)*A + (90/100)*B"
   ]
  },
  {
   "cell_type": "markdown",
   "metadata": {},
   "source": [
    "esta seria la producción total con los porcentajes de afectación mencionados"
   ]
  },
  {
   "cell_type": "code",
   "execution_count": null,
   "metadata": {},
   "outputs": [],
   "source": []
  },
  {
   "cell_type": "markdown",
   "metadata": {},
   "source": [
    "***3) Un constructor hace una urbanización con tres\n",
    "tipos de viviendas: S (sencillas), N (normales)\n",
    "y L (lujo). Cada vivienda sencilla tiene 1\n",
    "ventana grande, 7 medianas y 1 pequeña. Cada\n",
    "vivienda normal tiene 2 ventanas grandes, 9\n",
    "medianas y 2 pequeñas. Y cada vivienda de\n",
    "lujo tiene 4 ventanas grandes, 10 medianas y 3\n",
    "pequeñas.  \n",
    "Cada ventana grande tiene 4 cristales y 8\n",
    "bisagras, cada ventana mediana tiene dos\n",
    "cristales y 4 bisagras; y cada ventana pequeña\n",
    "tiene 1 cristal y 2 bisagras.***\n",
    "\n"
   ]
  },
  {
   "cell_type": "markdown",
   "metadata": {},
   "source": [
    "a) Escribir una matriz que describa el número\n",
    "y tamaño de ventanas en cada tipo de\n",
    "vivienda; y otra matriz que exprese el\n",
    "número de cristales y el número de\n",
    "bisagras en cada tipo de ventana. \n"
   ]
  },
  {
   "cell_type": "code",
   "execution_count": 24,
   "metadata": {},
   "outputs": [
    {
     "data": {
      "text/plain": [
       "((3, 3), (2, 3))"
      ]
     },
     "execution_count": 24,
     "metadata": {},
     "output_type": "execute_result"
    }
   ],
   "source": [
    "VENTANA_CASA = np.array([\n",
    "    [1, 2, 4],\n",
    "    [7, 9, 10],\n",
    "    [1, 2, 3]\n",
    "])\n",
    "CRISTALBISAGRA_VENTANA = np.array([\n",
    "    [4, 2, 1],\n",
    "    [8, 4, 2]\n",
    "])\n",
    "\n",
    "VENTANA_CASA.shape, CRISTALBISAGRA_VENTANA.shape"
   ]
  },
  {
   "cell_type": "markdown",
   "metadata": {},
   "source": [
    "b) Calcular una matriz que exprese el número\n",
    "de cristales y de bisagras necesarias en cada\n",
    "tipo de vivienda. \n"
   ]
  },
  {
   "cell_type": "code",
   "execution_count": 25,
   "metadata": {},
   "outputs": [
    {
     "data": {
      "text/plain": [
       "array([[19, 28, 39],\n",
       "       [38, 56, 78]])"
      ]
     },
     "execution_count": 25,
     "metadata": {},
     "output_type": "execute_result"
    }
   ],
   "source": [
    "CRISTALBISAGRA_CASA = CRISTALBISAGRA_VENTANA.dot(VENTANA_CASA)\n",
    "CRISTALBISAGRA_CASA"
   ]
  },
  {
   "cell_type": "markdown",
   "metadata": {},
   "source": [
    "- En casa simple hay 19 cristales y 38 bisagras\n",
    "- En casa normal hay 28 cristales y 56 bisagras\n",
    "- En casa lujo hay 39 cristales y 78 bisagras"
   ]
  },
  {
   "cell_type": "code",
   "execution_count": null,
   "metadata": {},
   "outputs": [],
   "source": []
  },
  {
   "cell_type": "markdown",
   "metadata": {},
   "source": [
    "***4) Una fábrica de muebles fabrica 3 modelos de\n",
    "estanterías A, B y C, cada uno en dos tamaños\n",
    "grande y pequeño. Produce diariamente 1000\n",
    "estanterías grandes y 8000 estanterías\n",
    "pequeñas del tipo A, 8000 grandes y 6000\n",
    "pequeñas del tipo B y 4000 grandes y 6000\n",
    "pequeñas del tipo C.  Cada estantería grande\n",
    "lleva 16 tornillos y 6 soportes, y la pequeña\n",
    "lleva 12 tornillos y 4 soportes.***\n"
   ]
  },
  {
   "cell_type": "markdown",
   "metadata": {},
   "source": [
    "a) Representar esta información en dos\n",
    "matrices. "
   ]
  },
  {
   "cell_type": "code",
   "execution_count": 26,
   "metadata": {},
   "outputs": [
    {
     "data": {
      "text/plain": [
       "((2, 3), (2, 2))"
      ]
     },
     "execution_count": 26,
     "metadata": {},
     "output_type": "execute_result"
    }
   ],
   "source": [
    "TAMANIO_ESTANTERIA = np.array([\n",
    "    [1000, 8000, 4000],\n",
    "    [8000, 6000, 6000]\n",
    "])\n",
    "TORNILLOSOPORTE_TAMANIO = np.array([\n",
    "    [16, 12],\n",
    "    [6, 4]\n",
    "])\n",
    "\n",
    "TAMANIO_ESTANTERIA.shape, TORNILLOSOPORTE_TAMANIO.shape"
   ]
  },
  {
   "cell_type": "markdown",
   "metadata": {},
   "source": [
    "b) Hallar una matriz que exprese la cantidad\n",
    "de tornillos y soportes necesarios para la\n",
    "producción diaria de cada uno de los seis\n",
    "modelos-tamaño de estantería.\n"
   ]
  },
  {
   "cell_type": "code",
   "execution_count": 35,
   "metadata": {},
   "outputs": [
    {
     "data": {
      "text/plain": [
       "array([[112000, 200000, 136000],\n",
       "       [ 38000,  72000,  48000]])"
      ]
     },
     "execution_count": 35,
     "metadata": {},
     "output_type": "execute_result"
    }
   ],
   "source": [
    "TORNILLOSOPORTE_ESTANTERIA = TORNILLOSOPORTE_TAMANIO.dot(TAMANIO_ESTANTERIA)\n",
    "TORNILLOSOPORTE_ESTANTERIA"
   ]
  },
  {
   "cell_type": "markdown",
   "metadata": {},
   "source": [
    "con esto tenemos que :\n",
    "- Para el tipo A se necesitan 112000 tornillos y 38000 soportes\n",
    "- Para el tipo B se necesitan 200000 tornillos y 72000 soportes\n",
    "- Para el tipo C se necesitan 136000 tornillos y 48000 soportes"
   ]
  },
  {
   "cell_type": "code",
   "execution_count": null,
   "metadata": {},
   "outputs": [],
   "source": []
  },
  {
   "cell_type": "markdown",
   "metadata": {},
   "source": [
    "**5)  Una fábrica produce 3 artículos y tiene 4\n",
    "clientes. El resumen mensual de ventas se\n",
    "anota en una matriz, donde cada cliente\n",
    "dispone de un vector fila cuyas componentes\n",
    "indican las cantidades\n",
    "adquiridas de cada\n",
    "artículo. Sea E la\n",
    "matriz de ventas de\n",
    "enero:***\n"
   ]
  },
  {
   "cell_type": "code",
   "execution_count": 36,
   "metadata": {},
   "outputs": [
    {
     "data": {
      "text/plain": [
       "(4, 3)"
      ]
     },
     "execution_count": 36,
     "metadata": {},
     "output_type": "execute_result"
    }
   ],
   "source": [
    "E = np.array([\n",
    "    [9, 5, 2],\n",
    "    [3, 8, 0],\n",
    "    [0, 0, 0],\n",
    "    [6, 7, -1],\n",
    "])\n",
    "E.shape"
   ]
  },
  {
   "cell_type": "markdown",
   "metadata": {},
   "source": [
    "a) Interpretar la matriz E,\n",
    "explicando cómo han sido las ventas.  "
   ]
  },
  {
   "cell_type": "markdown",
   "metadata": {},
   "source": [
    "- El cliente1 al mes compró 9 del artícilo1, 5 del artículo2 y 2 del artículo3\n",
    "- El cliente2 al mes compró 3 del artícilo1, 8 del artículo2 y 0 del artículo3\n",
    "- El cliente3 al mes compró 0 del artícilo1, 0 del artículo2 y 0 del artículo3\n",
    "- El cliente4 al mes compró 6 del artícilo1, 7 del artículo2 y se tuvo una perdida equivalente al artículo3"
   ]
  },
  {
   "cell_type": "code",
   "execution_count": null,
   "metadata": {},
   "outputs": [],
   "source": []
  },
  {
   "cell_type": "markdown",
   "metadata": {},
   "source": [
    "***6) Una fábrica de coches produce tres modelos:\n",
    "coupé, ranchera y económico. Cada coche\n",
    "necesita las cantidades de cada uno de los\n",
    "siguientes conceptos, relacionados en la matriz\n",
    "C, en unidades convenientemente elegidas:\n",
    "materiales, personal, impuestos y transporte.***"
   ]
  },
  {
   "cell_type": "code",
   "execution_count": 38,
   "metadata": {},
   "outputs": [
    {
     "data": {
      "text/plain": [
       "((3, 4), (1, 3), (4, 1))"
      ]
     },
     "execution_count": 38,
     "metadata": {},
     "output_type": "execute_result"
    }
   ],
   "source": [
    "C = np.array([\n",
    "    [7, 10, 5, 2],\n",
    "    [8, 9, 3, 3],\n",
    "    [5, 7, 2, 1]\n",
    "])\n",
    "\n",
    "V = np.array([\n",
    "    [5],\n",
    "    [15],\n",
    "    [7],\n",
    "    [2]\n",
    "])\n",
    "\n",
    "P = np.array([60,40,90]).reshape(1,3)\n",
    "\n",
    "\n",
    "C.shape, P.shape, V.shape"
   ]
  },
  {
   "cell_type": "markdown",
   "metadata": {},
   "source": [
    "a) Las unidades semanales necesarias de cada\n",
    "concepto. \n"
   ]
  },
  {
   "cell_type": "code",
   "execution_count": 39,
   "metadata": {},
   "outputs": [
    {
     "data": {
      "text/plain": [
       "array([[1190, 1590,  600,  330]])"
      ]
     },
     "execution_count": 39,
     "metadata": {},
     "output_type": "execute_result"
    }
   ],
   "source": [
    "P.dot(C)"
   ]
  },
  {
   "cell_type": "markdown",
   "metadata": {},
   "source": [
    "b) Los costes de un coche de cada modelo. \n"
   ]
  },
  {
   "cell_type": "code",
   "execution_count": 40,
   "metadata": {},
   "outputs": [
    {
     "data": {
      "text/plain": [
       "array([[224],\n",
       "       [202],\n",
       "       [146]])"
      ]
     },
     "execution_count": 40,
     "metadata": {},
     "output_type": "execute_result"
    }
   ],
   "source": [
    "C.dot(V)"
   ]
  },
  {
   "cell_type": "markdown",
   "metadata": {},
   "source": [
    "c) El coste total de la producción semanal.  "
   ]
  },
  {
   "cell_type": "code",
   "execution_count": 41,
   "metadata": {},
   "outputs": [
    {
     "data": {
      "text/plain": [
       "array([[34660]])"
      ]
     },
     "execution_count": 41,
     "metadata": {},
     "output_type": "execute_result"
    }
   ],
   "source": [
    "(P.dot(C)).dot(V)"
   ]
  },
  {
   "cell_type": "code",
   "execution_count": null,
   "metadata": {},
   "outputs": [],
   "source": []
  }
 ],
 "metadata": {
  "kernelspec": {
   "display_name": "Python 3",
   "language": "python",
   "name": "python3"
  },
  "language_info": {
   "codemirror_mode": {
    "name": "ipython",
    "version": 3
   },
   "file_extension": ".py",
   "mimetype": "text/x-python",
   "name": "python",
   "nbconvert_exporter": "python",
   "pygments_lexer": "ipython3",
   "version": "3.8.3"
  }
 },
 "nbformat": 4,
 "nbformat_minor": 4
}
