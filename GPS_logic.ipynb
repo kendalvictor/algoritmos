{
 "cells": [
  {
   "cell_type": "code",
   "execution_count": 1,
   "metadata": {},
   "outputs": [],
   "source": [
    "from sympy import var, solve, nsolve, Symbol\n",
    "import itertools\n",
    "import random as rn"
   ]
  },
  {
   "cell_type": "code",
   "execution_count": 2,
   "metadata": {},
   "outputs": [],
   "source": [
    "x = Symbol('x', positive=True)\n",
    "y = Symbol('y', positive=True)\n",
    "z = Symbol('z', positive=True)\n",
    "t = Symbol('t', positive=True)"
   ]
  },
  {
   "cell_type": "code",
   "execution_count": 3,
   "metadata": {},
   "outputs": [
    {
     "name": "stdout",
     "output_type": "stream",
     "text": [
      "['__doc__', '__loader__', '__name__', '__package__', '__spec__', '_grouper', '_tee', '_tee_dataobject', 'accumulate', 'chain', 'combinations', 'combinations_with_replacement', 'compress', 'count', 'cycle', 'dropwhile', 'filterfalse', 'groupby', 'islice', 'permutations', 'product', 'repeat', 'starmap', 'takewhile', 'tee', 'zip_longest']\n"
     ]
    }
   ],
   "source": [
    "print(dir(itertools))"
   ]
  },
  {
   "cell_type": "code",
   "execution_count": 4,
   "metadata": {},
   "outputs": [
    {
     "name": "stdout",
     "output_type": "stream",
     "text": [
      "Help on function nsolve in module sympy.solvers.solvers:\n",
      "\n",
      "nsolve(*args, **kwargs)\n",
      "    Solve a nonlinear equation system numerically: ``nsolve(f, [args,] x0,\n",
      "    modules=['mpmath'], **kwargs)``.\n",
      "    \n",
      "    Explanation\n",
      "    ===========\n",
      "    \n",
      "    ``f`` is a vector function of symbolic expressions representing the system.\n",
      "    *args* are the variables. If there is only one variable, this argument can\n",
      "    be omitted. ``x0`` is a starting vector close to a solution.\n",
      "    \n",
      "    Use the modules keyword to specify which modules should be used to\n",
      "    evaluate the function and the Jacobian matrix. Make sure to use a module\n",
      "    that supports matrices. For more information on the syntax, please see the\n",
      "    docstring of ``lambdify``.\n",
      "    \n",
      "    If the keyword arguments contain ``dict=True`` (default is False) ``nsolve``\n",
      "    will return a list (perhaps empty) of solution mappings. This might be\n",
      "    especially useful if you want to use ``nsolve`` as a fallback to solve since\n",
      "    using the dict argument for both methods produces return values of\n",
      "    consistent type structure. Please note: to keep this consistent with\n",
      "    ``solve``, the solution will be returned in a list even though ``nsolve``\n",
      "    (currently at least) only finds one solution at a time.\n",
      "    \n",
      "    Overdetermined systems are supported.\n",
      "    \n",
      "    Examples\n",
      "    ========\n",
      "    \n",
      "    >>> from sympy import Symbol, nsolve\n",
      "    >>> import sympy\n",
      "    >>> import mpmath\n",
      "    >>> mpmath.mp.dps = 15\n",
      "    >>> x1 = Symbol('x1')\n",
      "    >>> x2 = Symbol('x2')\n",
      "    >>> f1 = 3 * x1**2 - 2 * x2**2 - 1\n",
      "    >>> f2 = x1**2 - 2 * x1 + x2**2 + 2 * x2 - 8\n",
      "    >>> print(nsolve((f1, f2), (x1, x2), (-1, 1)))\n",
      "    Matrix([[-1.19287309935246], [1.27844411169911]])\n",
      "    \n",
      "    For one-dimensional functions the syntax is simplified:\n",
      "    \n",
      "    >>> from sympy import sin, nsolve\n",
      "    >>> from sympy.abc import x\n",
      "    >>> nsolve(sin(x), x, 2)\n",
      "    3.14159265358979\n",
      "    >>> nsolve(sin(x), 2)\n",
      "    3.14159265358979\n",
      "    \n",
      "    To solve with higher precision than the default, use the prec argument:\n",
      "    \n",
      "    >>> from sympy import cos\n",
      "    >>> nsolve(cos(x) - x, 1)\n",
      "    0.739085133215161\n",
      "    >>> nsolve(cos(x) - x, 1, prec=50)\n",
      "    0.73908513321516064165531208767387340401341175890076\n",
      "    >>> cos(_)\n",
      "    0.73908513321516064165531208767387340401341175890076\n",
      "    \n",
      "    To solve for complex roots of real functions, a nonreal initial point\n",
      "    must be specified:\n",
      "    \n",
      "    >>> from sympy import I\n",
      "    >>> nsolve(x**2 + 2, I)\n",
      "    1.4142135623731*I\n",
      "    \n",
      "    ``mpmath.findroot`` is used and you can find their more extensive\n",
      "    documentation, especially concerning keyword parameters and\n",
      "    available solvers. Note, however, that functions which are very\n",
      "    steep near the root, the verification of the solution may fail. In\n",
      "    this case you should use the flag ``verify=False`` and\n",
      "    independently verify the solution.\n",
      "    \n",
      "    >>> from sympy import cos, cosh\n",
      "    >>> from sympy.abc import i\n",
      "    >>> f = cos(x)*cosh(x) - 1\n",
      "    >>> nsolve(f, 3.14*100)\n",
      "    Traceback (most recent call last):\n",
      "    ...\n",
      "    ValueError: Could not find root within given tolerance. (1.39267e+230 > 2.1684e-19)\n",
      "    >>> ans = nsolve(f, 3.14*100, verify=False); ans\n",
      "    312.588469032184\n",
      "    >>> f.subs(x, ans).n(2)\n",
      "    2.1e+121\n",
      "    >>> (f/f.diff(x)).subs(x, ans).n(2)\n",
      "    7.4e-15\n",
      "    \n",
      "    One might safely skip the verification if bounds of the root are known\n",
      "    and a bisection method is used:\n",
      "    \n",
      "    >>> bounds = lambda i: (3.14*i, 3.14*(i + 1))\n",
      "    >>> nsolve(f, bounds(100), solver='bisect', verify=False)\n",
      "    315.730061685774\n",
      "    \n",
      "    Alternatively, a function may be better behaved when the\n",
      "    denominator is ignored. Since this is not always the case, however,\n",
      "    the decision of what function to use is left to the discretion of\n",
      "    the user.\n",
      "    \n",
      "    >>> eq = x**2/(1 - x)/(1 - 2*x)**2 - 100\n",
      "    >>> nsolve(eq, 0.46)\n",
      "    Traceback (most recent call last):\n",
      "    ...\n",
      "    ValueError: Could not find root within given tolerance. (10000 > 2.1684e-19)\n",
      "    Try another starting point or tweak arguments.\n",
      "    >>> nsolve(eq.as_numer_denom()[0], 0.46)\n",
      "    0.46792545969349058\n",
      "\n"
     ]
    }
   ],
   "source": [
    "help(nsolve)"
   ]
  },
  {
   "cell_type": "code",
   "execution_count": 5,
   "metadata": {},
   "outputs": [],
   "source": [
    "def valid_restriction(val1, val2, val3):\n",
    "    return val1**2 + val2**2 + val3**2 \n",
    "\n",
    "\n",
    "def result_restriction(tupla_fucniones, tupla_variables):\n",
    "    alternativas = {}\n",
    "    iteracion = 0\n",
    "    max_interacion = 250\n",
    "    \n",
    "    puntos_iniciales = list(itertools.permutations(range(1, 11, 2), 4))\n",
    "    rn.shuffle(puntos_iniciales)\n",
    "    puntos_iniciales\n",
    "\n",
    "    for var1, var2, var3, tiempo in puntos_iniciales:\n",
    "        iteracion += 1\n",
    "        #print(var1, var2, var3, tiempo)\n",
    "        error_1 = False\n",
    "        error_2 = False\n",
    "        error_3 = False\n",
    "        \n",
    "        try:\n",
    "            #print(var1/10, var2/10, var3/10, tiempo*1, end=' ')\n",
    "            sols = nsolve(tupla_fucniones, tupla_variables, (var1/10 - 0.01, var2/10 - 0.01, var3/10 - 0.01, tiempo*1), verify=True)\n",
    "            #print(sols, end=' ')\n",
    "        except Exception as e:\n",
    "            max_interacion = 1000\n",
    "            error_1 = True\n",
    "        \n",
    "       \n",
    "        if error_1:\n",
    "            try:\n",
    "                sols = nsolve(tupla_fucniones, tupla_variables, (var1/10 - 0.05, var2/10 + 0.05, var3/10 - 0.05, tiempo*2), verify=False)\n",
    "                #print(sols, end=' ')\n",
    "            except:\n",
    "                error_2 = True\n",
    "                max_interacion = 1000\n",
    "                \n",
    "        \n",
    "        if error_2:\n",
    "            try:\n",
    "                sols = nsolve(tupla_fucniones, tupla_variables, (var1/10, var2/10, var3/10, tiempo*4), verify=False)\n",
    "                #print(sols, end=' ')\n",
    "            except:\n",
    "                error_3 = True\n",
    "        \n",
    "        if iteracion > max_interacion:\n",
    "            print(\"MOTIVO DE PARADA: \",  iteracion)\n",
    "            break\n",
    "        if error_3: ##or sols[1] < 0:\n",
    "            continue\n",
    "        \n",
    "        #print(sols, end=' ')\n",
    "        ## hallo la suma cuadrada\n",
    "        x_y_z_t = list(sols)\n",
    "        suma_cuadrada = valid_restriction(*sols[:-1])\n",
    "        #print(suma_cuadrada)\n",
    "        \n",
    "        ## Almaceno las alternativas de solucion\n",
    "        if suma_cuadrada not in alternativas.keys():\n",
    "            #print(suma_cuadrada)\n",
    "            alternativas[suma_cuadrada] = x_y_z_t\n",
    "            \n",
    "        ## valido que este dentro de la circunferencia\n",
    "        if suma_cuadrada <= 1:\n",
    "            print(\"suma cuadrada menor a 1\")\n",
    "            return x_y_z_t\n",
    "    \n",
    "\n",
    "    #print(alternativas)\n",
    "    # Si ninguno cunple la restriccion , me quedo con la sumas mas cercana a 1\n",
    "    #print(alternativas)\n",
    "    menor_suma = sorted(list(alternativas.keys()))[0]\n",
    "        \n",
    "    try:\n",
    "        return alternativas[menor_suma]\n",
    "    except:\n",
    "        return []\n",
    "\n",
    "def parser_result(list_result):\n",
    "    return 'coordenadas x:{} y:{} z:{} en el tiempo t:{}'.format(*list_result) if list_result else 'Solución no encontrada'"
   ]
  },
  {
   "cell_type": "markdown",
   "metadata": {},
   "source": [
    "# GPS"
   ]
  },
  {
   "cell_type": "markdown",
   "metadata": {},
   "source": [
    "<p>1.1.1. Ejemplo</p>\n",
    "\n",
    "<p>Supongamos que un coche es robado, pero cuenta con un dispositivo GPS, entonces se\n",
    "solicita a la empresa proveedora del sistema que localize el auto. La empresa cuenta con la\n",
    "ayuda de 4 sat´elites para encontrar el coche.</p>"
   ]
  },
  {
   "cell_type": "code",
   "execution_count": 6,
   "metadata": {},
   "outputs": [],
   "source": [
    "f1 = (x - 2.6871)**2 + (y - 0.997843)**2 + (z - 0.808889)**2 - 22.09*(t - 5.44013)**2\n",
    "f2 = (x - 1.28081)**2 + (y - 1.66812)**2 + (z - 1.05613)**2 - 22.09*(t - 5.63532)**2\n",
    "f3 = (x - 0.754194)**2 + (y - 2.66006)**2 + (z - 0.695377)**2 - 22.09*(t - 5.49932)**2\n",
    "f4 = (x - 0.534611)**2 + (y - 0.945304)**2 + (z - 0.693213)**2 - 22.09*(t - 5.84649)**2"
   ]
  },
  {
   "cell_type": "code",
   "execution_count": 7,
   "metadata": {},
   "outputs": [
    {
     "name": "stdout",
     "output_type": "stream",
     "text": [
      "[0.126795302587814, 0.405790993796679, 0.944473479294568, 5.99999437246670]\n"
     ]
    },
    {
     "data": {
      "text/plain": [
       "'coordenadas x:0.126795302587814 y:0.405790993796679 z:0.944473479294568 en el tiempo t:5.99999437246670'"
      ]
     },
     "execution_count": 7,
     "metadata": {},
     "output_type": "execute_result"
    }
   ],
   "source": [
    "listad_resultado = result_restriction((f1, f2, f3, f4), (x, y, z, t))\n",
    "print(listad_resultado)\n",
    "parser_result(listad_resultado)"
   ]
  },
  {
   "cell_type": "code",
   "execution_count": null,
   "metadata": {},
   "outputs": [],
   "source": []
  },
  {
   "cell_type": "markdown",
   "metadata": {},
   "source": [
    "## 1.2. Ejercicios"
   ]
  },
  {
   "cell_type": "markdown",
   "metadata": {},
   "source": [
    "## 1."
   ]
  },
  {
   "cell_type": "markdown",
   "metadata": {},
   "source": [
    " Un excursionista esta perdido en un bosque, pero tiene un dispositivo GPS, al iniciarlo\n",
    "se obtienen los siguientes datos:"
   ]
  },
  {
   "cell_type": "markdown",
   "metadata": {},
   "source": [
    "<p>Sat´elite Posici´on Tiempo</p>\n",
    "<p>1 (1.95456, 1.72328, 0.580083) 36,5946</p>\n",
    "<p>2 (1.26142, 1.23289, 1.25014) 36,692</p>\n",
    "<p>3 (1.61222, 2.3943, 0.538768) 36,5709</p>\n",
    "<p>4 (1.515, 2.43419, 0.599708) 36,5762</p>"
   ]
  },
  {
   "cell_type": "code",
   "execution_count": 8,
   "metadata": {},
   "outputs": [],
   "source": [
    "x = Symbol('x', positive=True)\n",
    "y = Symbol('y', positive=True)\n",
    "z = Symbol('z', positive=True)\n",
    "t = Symbol('t', positive=True)\n",
    "\n",
    "g1 = (x - 1.95456)**2 + (y - 1.72328)**2 + (z - 0.580083)**2 - 22.09*(t - 36.5946)**2\n",
    "g2 = (x - 1.26142)**2 + (y - 1.23289)**2 + (z - 1.25014)**2 - 22.09*(t - 36.692)**2\n",
    "g3 = (x - 1.61222)**2 + (y - 2.3943)**2 + (z - 0.538768)**2 - 22.09*(t - 36.5709)**2\n",
    "g4 = (x - 1.515)**2 + (y - 2.43419)**2 + (z - 0.599708)**2 - 22.09*(t - 36.5762)**2"
   ]
  },
  {
   "cell_type": "code",
   "execution_count": 9,
   "metadata": {},
   "outputs": [
    {
     "name": "stdout",
     "output_type": "stream",
     "text": [
      "[1.24335412377629, 1.89156062081198, 0.0785906293433119, 36.4060136404489]\n"
     ]
    },
    {
     "data": {
      "text/plain": [
       "'coordenadas x:1.24335412377629 y:1.89156062081198 z:0.0785906293433119 en el tiempo t:36.4060136404489'"
      ]
     },
     "execution_count": 9,
     "metadata": {},
     "output_type": "execute_result"
    }
   ],
   "source": [
    "listad_resultado = result_restriction((g1, g2, g3, g4), (x, y, z, t))\n",
    "print(listad_resultado)\n",
    "parser_result(listad_resultado)"
   ]
  },
  {
   "cell_type": "code",
   "execution_count": null,
   "metadata": {},
   "outputs": [],
   "source": []
  },
  {
   "cell_type": "markdown",
   "metadata": {},
   "source": [
    "## 2. "
   ]
  },
  {
   "cell_type": "markdown",
   "metadata": {},
   "source": [
    "Un empresario del transporte quiere conocer la ubicaci´on de una de sus unidades que\n",
    "tienen un dispositivo GPS, al activarlo se obtienen los siguientes datos:"
   ]
  },
  {
   "cell_type": "markdown",
   "metadata": {},
   "source": [
    "<p>Sat´elite Posici´on Tiempo</p>\n",
    "<p>1 (1.37811, 2.40965, 0.826757) 16,4717</p>\n",
    "<p>2 (0.637932, 1.32333, 2.58917) 16,5721</p>\n",
    "<p>3 (1.11962, 2.17206, 0.891593) 16,5432</p>\n",
    "<p>4 (1.51895, 1.02577, 1.68003) 16,6277</p>"
   ]
  },
  {
   "cell_type": "code",
   "execution_count": 10,
   "metadata": {},
   "outputs": [],
   "source": [
    "x = Symbol('x', positive=True)\n",
    "y = Symbol('y', positive=True)\n",
    "z = Symbol('z', positive=True)\n",
    "t = Symbol('t', positive=True)\n",
    "\n",
    "h1 = (x - 1.37811)**2 + (y - 2.40965)**2 + (z - 0.826757)**2 - 22.09*(t - 16.4717)**2\n",
    "h2 = (x - 0.637932)**2 + (y - 1.32333)**2 + (z - 2.58917)**2 - 22.09*(t - 16.5721)**2\n",
    "h3 = (x - 1.11962)**2 + (y - 2.17206)**2 + (z - 0.891593)**2 - 22.09*(t - 16.5432)**2\n",
    "h4 = (x - 1.51895)**2 + (y - 1.02577)**2 + (z - 1.68003)**2 - 22.09*(t - 16.6277)**2"
   ]
  },
  {
   "cell_type": "code",
   "execution_count": 11,
   "metadata": {},
   "outputs": [
    {
     "name": "stdout",
     "output_type": "stream",
     "text": [
      "suma cuadrada menor a 1\n",
      "[0.111619637871343, 0.271145280624084, 0.951269891406768, 17.0011711409538]\n"
     ]
    },
    {
     "data": {
      "text/plain": [
       "'coordenadas x:0.111619637871343 y:0.271145280624084 z:0.951269891406768 en el tiempo t:17.0011711409538'"
      ]
     },
     "execution_count": 11,
     "metadata": {},
     "output_type": "execute_result"
    }
   ],
   "source": [
    "listad_resultado = result_restriction((h1, h2, h3, h4), (x, y, z, t))\n",
    "print(listad_resultado)\n",
    "parser_result(listad_resultado)"
   ]
  },
  {
   "cell_type": "code",
   "execution_count": null,
   "metadata": {},
   "outputs": [],
   "source": []
  },
  {
   "cell_type": "code",
   "execution_count": null,
   "metadata": {},
   "outputs": [],
   "source": []
  },
  {
   "cell_type": "markdown",
   "metadata": {},
   "source": [
    "## 3."
   ]
  },
  {
   "cell_type": "markdown",
   "metadata": {},
   "source": [
    "Un ejecutivo no llega a una junta importante y no contesta las llamadas, pero tiene\n",
    "activado un dispositivo GPS, para saber si esta en camino los directivos de su empresa\n",
    "activan su localizador obteniendo los siguientes datos:"
   ]
  },
  {
   "cell_type": "markdown",
   "metadata": {},
   "source": [
    "<p>Sat´elite Posici´on Tiempo</p>\n",
    "<p>1 (0.539902, 2.19469, 0.515066) 5,57658</p>\n",
    "<p>2 (2.45447, 0.975447, 0.980592) 5,60392</p>\n",
    "<p>3 (1.85353, 1.17735, 1.9077) 5,58193</p>\n",
    "<p>4 (0.720784, 1.60063, 1.85784) 5,59462</p>"
   ]
  },
  {
   "cell_type": "code",
   "execution_count": 12,
   "metadata": {},
   "outputs": [],
   "source": [
    "x = Symbol('x', positive=True)\n",
    "y = Symbol('y', positive=True)\n",
    "z = Symbol('z', positive=True)\n",
    "t = Symbol('t', positive=True)\n",
    "\n",
    "j1 = (x - 0.539902)**2 + (y - 2.19469)**2 + (z - 0.515066)**2 - 22.09*(t - 5.57658)**2\n",
    "j2 = (x - 2.45447)**2 + (y - 0.975447)**2 + (z - 0.980592)**2 - 22.09*(t - 5.60392)**2\n",
    "j3 = (x - 1.85353)**2 + (y - 1.17735)**2 + (z - 1.9077)**2 - 22.09*(t - 5.58193)**2\n",
    "j4 = (x - 0.720784)**2 + (y - 1.60063)**2 + (z - 1.85784)**2 - 22.09*(t - 5.59462)**2"
   ]
  },
  {
   "cell_type": "code",
   "execution_count": 13,
   "metadata": {},
   "outputs": [
    {
     "name": "stdout",
     "output_type": "stream",
     "text": [
      "suma cuadrada menor a 1\n",
      "[0.808447782054104, 0.222954456976223, 0.544539648520674, 6.00001775044671]\n"
     ]
    },
    {
     "data": {
      "text/plain": [
       "'coordenadas x:0.808447782054104 y:0.222954456976223 z:0.544539648520674 en el tiempo t:6.00001775044671'"
      ]
     },
     "execution_count": 13,
     "metadata": {},
     "output_type": "execute_result"
    }
   ],
   "source": [
    "listad_resultado = result_restriction((j1, j2, j3, j4), (x, y, z, t))\n",
    "print(listad_resultado)\n",
    "parser_result(listad_resultado)"
   ]
  },
  {
   "cell_type": "code",
   "execution_count": null,
   "metadata": {},
   "outputs": [],
   "source": []
  },
  {
   "cell_type": "markdown",
   "metadata": {},
   "source": [
    "## 4."
   ]
  },
  {
   "cell_type": "markdown",
   "metadata": {},
   "source": [
    "Una mascota se pierde, pero tiene un dispositivo GPS, al encender tal dispositivo se\n",
    "obtienen los siguientes datos:\n"
   ]
  },
  {
   "cell_type": "markdown",
   "metadata": {},
   "source": [
    "Sat´elite Posici´on Tiempo\n",
    "1 (1.9975, 0.520202, 1.95371) 10,5166\n",
    "2 ( 0.520811, 1.0911, 1.44409) 10,7481\n",
    "3 (1.95991, 1.00399, 0.691907) 10,6717\n",
    "4 (0.936643, 0.583767, 2.19417) 10,5803"
   ]
  },
  {
   "cell_type": "code",
   "execution_count": 14,
   "metadata": {},
   "outputs": [],
   "source": [
    "x = Symbol('x', positive=True)\n",
    "y = Symbol('y', positive=True)\n",
    "z = Symbol('z', positive=True)\n",
    "t = Symbol('t', positive=True)\n",
    "\n",
    "k1 = (x - 1.9975)**2 + (y - 0.520202)**2 + (z - 1.95371)**2 - 22.09*(t - 10.5166)**2\n",
    "k2 = (x - 0.520811)**2 + (y - 1.0911)**2 + (z - 1.44409)**2 - 22.09*(t - 10.7481)**2\n",
    "k3 = (x - 1.95991)**2 + (y - 1.00399)**2 + (z - 0.691907)**2 - 22.09*(t - 10.6717)**2\n",
    "k4 = (x - 0.936643)**2 + (y - 0.583767)**2 + (z - 2.19417)**2 - 22.09*(t - 10.5803)**2"
   ]
  },
  {
   "cell_type": "code",
   "execution_count": 15,
   "metadata": {},
   "outputs": [
    {
     "name": "stdout",
     "output_type": "stream",
     "text": [
      "suma cuadrada menor a 1\n",
      "[0.480233670261486, 0.827351286142130, 0.290266958900510, 11.0000743239561]\n"
     ]
    },
    {
     "data": {
      "text/plain": [
       "'coordenadas x:0.480233670261486 y:0.827351286142130 z:0.290266958900510 en el tiempo t:11.0000743239561'"
      ]
     },
     "execution_count": 15,
     "metadata": {},
     "output_type": "execute_result"
    }
   ],
   "source": [
    "listad_resultado = result_restriction((k1, k2, k3, k4), (x, y, z, t))\n",
    "print(listad_resultado)\n",
    "parser_result(listad_resultado)"
   ]
  },
  {
   "cell_type": "code",
   "execution_count": null,
   "metadata": {},
   "outputs": [],
   "source": []
  },
  {
   "cell_type": "markdown",
   "metadata": {},
   "source": [
    "## 5."
   ]
  },
  {
   "cell_type": "markdown",
   "metadata": {},
   "source": [
    "Para monitorear un cargamento importante que viaja al norte del pa´ıs, se le provey´o de\n",
    "un dispositivo GPS, en un tiempo t se obtienen los siguientes datos :\n"
   ]
  },
  {
   "cell_type": "markdown",
   "metadata": {},
   "source": [
    "Sat´elite Posici´on Tiempo\n",
    "1 (0.858612, 1.82128, 0.917149) 0,657103\n",
    "2 (1.46621, 1.29383, 0.934071) 0,705031\n",
    "3 (1.26943, 2.20292, 0.965437) 0,555515\n",
    "4 (1.91226, 1.68888, 1.3802) 0,561975"
   ]
  },
  {
   "cell_type": "code",
   "execution_count": 16,
   "metadata": {},
   "outputs": [],
   "source": [
    "x = Symbol('x', positive=True)\n",
    "y = Symbol('y', positive=True)\n",
    "z = Symbol('z', positive=True)\n",
    "t = Symbol('t', positive=True)\n",
    "\n",
    "m1 = (x - 0.858612)**2 + (y - 1.82128)**2 + (z - 0.917149)**2 - 22.09*(t - 0.657103)**2\n",
    "m2 = (x - 1.46621)**2 + (y - 1.29383)**2 + (z - 0.934071)**2 - 22.09*(t - 0.705031)**2\n",
    "m3 = (x - 1.26943)**2 + (y - 2.20292)**2 + (z - 0.965437)**2 - 22.09*(t - 0.555515)**2\n",
    "m4 = (x - 1.91226)**2 + (y - 1.68888)**2 + (z - 1.3802)**2 - 22.09*(t - 0.561975)**2"
   ]
  },
  {
   "cell_type": "code",
   "execution_count": 17,
   "metadata": {},
   "outputs": [
    {
     "name": "stdout",
     "output_type": "stream",
     "text": [
      "[0.578628561298368, 0.240226751712875, 0.779495777497894, 0.999984335464141]\n"
     ]
    },
    {
     "data": {
      "text/plain": [
       "'coordenadas x:0.578628561298368 y:0.240226751712875 z:0.779495777497894 en el tiempo t:0.999984335464141'"
      ]
     },
     "execution_count": 17,
     "metadata": {},
     "output_type": "execute_result"
    }
   ],
   "source": [
    "listad_resultado = result_restriction((m1, m2, m3, m4), (x, y, z, t))\n",
    "print(listad_resultado)\n",
    "parser_result(listad_resultado)"
   ]
  },
  {
   "cell_type": "code",
   "execution_count": null,
   "metadata": {},
   "outputs": [],
   "source": []
  }
 ],
 "metadata": {
  "kernelspec": {
   "display_name": "Python 3",
   "language": "python",
   "name": "python3"
  },
  "language_info": {
   "codemirror_mode": {
    "name": "ipython",
    "version": 3
   },
   "file_extension": ".py",
   "mimetype": "text/x-python",
   "name": "python",
   "nbconvert_exporter": "python",
   "pygments_lexer": "ipython3",
   "version": "3.8.3"
  }
 },
 "nbformat": 4,
 "nbformat_minor": 4
}
