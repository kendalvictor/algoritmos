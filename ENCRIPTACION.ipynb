{
 "cells": [
  {
   "cell_type": "markdown",
   "metadata": {},
   "source": [
    "<center> SEMANA  N° 2 : ENCCRIPTACIÓN </center>\n",
    "<center> Víctor Mariano Villacorta Plasencia - 202013427</center>"
   ]
  },
  {
   "cell_type": "code",
   "execution_count": 1,
   "metadata": {},
   "outputs": [],
   "source": [
    "import string\n",
    "import math\n",
    "import numpy as np"
   ]
  },
  {
   "cell_type": "code",
   "execution_count": 2,
   "metadata": {},
   "outputs": [
    {
     "name": "stdout",
     "output_type": "stream",
     "text": [
      "{1: 'a', 2: 'b', 3: 'c', 4: 'd', 5: 'e', 6: 'f', 7: 'g', 8: 'h', 9: 'i', 10: 'j', 11: 'k', 12: 'l', 13: 'm', 14: 'n', 15: 'o', 16: 'p', 17: 'q', 18: 'r', 19: 's', 20: 't', 21: 'u', 22: 'v', 23: 'w', 24: 'x', 25: 'y', 26: 'z'}\n"
     ]
    }
   ],
   "source": [
    "dicc_parser = {ord(_) - 96: _ for _ in string.ascii_lowercase}\n",
    "print(dicc_parser)"
   ]
  },
  {
   "cell_type": "code",
   "execution_count": 6,
   "metadata": {},
   "outputs": [],
   "source": [
    "def descifrar(matriz_llave, code):\n",
    "    corte = matriz_llave.shape[0]\n",
    "    #print(corte)\n",
    "    # debe ser \n",
    "    \n",
    "    # aumnetar que detrerminanate ! = 0\n",
    "    \n",
    "    #decodifica\n",
    "    codigo = np.linalg.inv(matriz_llave).dot(code)\n",
    "    #lineliza\n",
    "    horizontal = codigo.T.reshape(1, codigo.shape[1]*corte)\n",
    "    \n",
    "    #valido enteros\n",
    "    horizontal = [int(round(_, 0)) for _ in list(horizontal)[0]]\n",
    "    \n",
    "    #descrifo\n",
    "    return ''.join([dicc_parser.get(numero, '_') for numero in horizontal])"
   ]
  },
  {
   "cell_type": "markdown",
   "metadata": {},
   "source": [
    "# 1-"
   ]
  },
  {
   "cell_type": "code",
   "execution_count": 7,
   "metadata": {},
   "outputs": [
    {
     "data": {
      "text/plain": [
       "((3, 3), (3, 3))"
      ]
     },
     "execution_count": 7,
     "metadata": {},
     "output_type": "execute_result"
    }
   ],
   "source": [
    "A = np.array([\n",
    "    [-1, 2, -1],\n",
    "    [-3, 0, -2],\n",
    "    [-3, 1, -2]\n",
    "])\n",
    "C = np.array([\n",
    "    [7, 4, -8],\n",
    "    [-78, -30, -81],\n",
    "    [-60, -21, -67]\n",
    "])\n",
    "\n",
    "A.shape, C.shape"
   ]
  },
  {
   "cell_type": "code",
   "execution_count": 8,
   "metadata": {},
   "outputs": [
    {
     "data": {
      "text/plain": [
       "['t', 'r', 'i', 'b', 'i', 'l', 'i', 'n', '_']"
      ]
     },
     "execution_count": 8,
     "metadata": {},
     "output_type": "execute_result"
    }
   ],
   "source": [
    "descifrar(A, C)"
   ]
  },
  {
   "cell_type": "code",
   "execution_count": null,
   "metadata": {},
   "outputs": [],
   "source": []
  },
  {
   "cell_type": "markdown",
   "metadata": {},
   "source": [
    "# CON ESTA FUNCION YA SALEN TODOS LOS EJEMPLOS =)"
   ]
  },
  {
   "cell_type": "code",
   "execution_count": null,
   "metadata": {},
   "outputs": [],
   "source": []
  }
 ],
 "metadata": {
  "kernelspec": {
   "display_name": "Python 3",
   "language": "python",
   "name": "python3"
  },
  "language_info": {
   "codemirror_mode": {
    "name": "ipython",
    "version": 3
   },
   "file_extension": ".py",
   "mimetype": "text/x-python",
   "name": "python",
   "nbconvert_exporter": "python",
   "pygments_lexer": "ipython3",
   "version": "3.8.3"
  }
 },
 "nbformat": 4,
 "nbformat_minor": 4
}
